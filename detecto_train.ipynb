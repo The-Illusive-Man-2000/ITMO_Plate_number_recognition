{
  "cells": [
    {
      "cell_type": "code",
      "execution_count": 1,
      "metadata": {
        "id": "I4i5b0ZSl7v8",
        "colab": {
          "base_uri": "https://localhost:8080/"
        },
        "outputId": "d1fd45e0-b6ec-4e27-a4fc-f6a53150b389"
      },
      "outputs": [
        {
          "output_type": "stream",
          "name": "stdout",
          "text": [
            "Looking in indexes: https://pypi.org/simple, https://us-python.pkg.dev/colab-wheels/public/simple/\n",
            "Collecting detecto\n",
            "  Downloading detecto-1.2.2-py3-none-any.whl (25 kB)\n",
            "Requirement already satisfied: tqdm in /usr/local/lib/python3.7/dist-packages (from detecto) (4.64.1)\n",
            "Requirement already satisfied: matplotlib in /usr/local/lib/python3.7/dist-packages (from detecto) (3.2.2)\n",
            "Requirement already satisfied: opencv-python in /usr/local/lib/python3.7/dist-packages (from detecto) (4.6.0.66)\n",
            "Requirement already satisfied: torchvision in /usr/local/lib/python3.7/dist-packages (from detecto) (0.13.1+cu113)\n",
            "Requirement already satisfied: torch in /usr/local/lib/python3.7/dist-packages (from detecto) (1.12.1+cu113)\n",
            "Requirement already satisfied: pandas in /usr/local/lib/python3.7/dist-packages (from detecto) (1.3.5)\n",
            "Requirement already satisfied: pyparsing!=2.0.4,!=2.1.2,!=2.1.6,>=2.0.1 in /usr/local/lib/python3.7/dist-packages (from matplotlib->detecto) (3.0.9)\n",
            "Requirement already satisfied: python-dateutil>=2.1 in /usr/local/lib/python3.7/dist-packages (from matplotlib->detecto) (2.8.2)\n",
            "Requirement already satisfied: numpy>=1.11 in /usr/local/lib/python3.7/dist-packages (from matplotlib->detecto) (1.21.6)\n",
            "Requirement already satisfied: kiwisolver>=1.0.1 in /usr/local/lib/python3.7/dist-packages (from matplotlib->detecto) (1.4.4)\n",
            "Requirement already satisfied: cycler>=0.10 in /usr/local/lib/python3.7/dist-packages (from matplotlib->detecto) (0.11.0)\n",
            "Requirement already satisfied: typing-extensions in /usr/local/lib/python3.7/dist-packages (from kiwisolver>=1.0.1->matplotlib->detecto) (4.1.1)\n",
            "Requirement already satisfied: six>=1.5 in /usr/local/lib/python3.7/dist-packages (from python-dateutil>=2.1->matplotlib->detecto) (1.15.0)\n",
            "Requirement already satisfied: pytz>=2017.3 in /usr/local/lib/python3.7/dist-packages (from pandas->detecto) (2022.2.1)\n",
            "Requirement already satisfied: requests in /usr/local/lib/python3.7/dist-packages (from torchvision->detecto) (2.23.0)\n",
            "Requirement already satisfied: pillow!=8.3.*,>=5.3.0 in /usr/local/lib/python3.7/dist-packages (from torchvision->detecto) (7.1.2)\n",
            "Requirement already satisfied: urllib3!=1.25.0,!=1.25.1,<1.26,>=1.21.1 in /usr/local/lib/python3.7/dist-packages (from requests->torchvision->detecto) (1.24.3)\n",
            "Requirement already satisfied: chardet<4,>=3.0.2 in /usr/local/lib/python3.7/dist-packages (from requests->torchvision->detecto) (3.0.4)\n",
            "Requirement already satisfied: certifi>=2017.4.17 in /usr/local/lib/python3.7/dist-packages (from requests->torchvision->detecto) (2022.6.15)\n",
            "Requirement already satisfied: idna<3,>=2.5 in /usr/local/lib/python3.7/dist-packages (from requests->torchvision->detecto) (2.10)\n",
            "Installing collected packages: detecto\n",
            "Successfully installed detecto-1.2.2\n",
            "Looking in indexes: https://pypi.org/simple, https://us-python.pkg.dev/colab-wheels/public/simple/\n",
            "Collecting session-info\n",
            "  Downloading session_info-1.0.0.tar.gz (24 kB)\n",
            "Collecting stdlib_list\n",
            "  Downloading stdlib_list-0.8.0-py3-none-any.whl (63 kB)\n",
            "\u001b[K     |████████████████████████████████| 63 kB 1.6 MB/s \n",
            "\u001b[?25hBuilding wheels for collected packages: session-info\n",
            "  Building wheel for session-info (setup.py) ... \u001b[?25l\u001b[?25hdone\n",
            "  Created wheel for session-info: filename=session_info-1.0.0-py3-none-any.whl size=8048 sha256=7aa2dbd4b9435c51443827b2808a4c319b268816f895a5566d21622e26cc5e93\n",
            "  Stored in directory: /root/.cache/pip/wheels/bd/ad/14/6a42359351a18337a8683854cfbba99dd782271f2d1767f87f\n",
            "Successfully built session-info\n",
            "Installing collected packages: stdlib-list, session-info\n",
            "Successfully installed session-info-1.0.0 stdlib-list-0.8.0\n"
          ]
        }
      ],
      "source": [
        "# Ставим библиотеку detecto и библиотеку для сбора списка установленных модулей.\n",
        "!pip install detecto\n",
        "!pip install session-info"
      ]
    },
    {
      "cell_type": "code",
      "source": [
        "#  Импортируем модули. \n",
        "\n",
        "import torch\n",
        "from detecto import core, utils, visualize\n",
        "from detecto.visualize import show_labeled_image, plot_prediction_grid\n",
        "from torchvision import transforms\n",
        "import matplotlib.pyplot as plt\n",
        "import numpy as np\n",
        "from pathlib import Path\n",
        "import session_info"
      ],
      "metadata": {
        "id": "4I0GbAG5-Oy3"
      },
      "execution_count": 2,
      "outputs": []
    },
    {
      "cell_type": "code",
      "source": [
        "# Подключаем гугл диск, где хранится датасет и разметка.\n",
        "from google.colab import drive\n",
        "drive.mount('/content/drive')"
      ],
      "metadata": {
        "id": "UlIom6TBXMJC",
        "colab": {
          "base_uri": "https://localhost:8080/"
        },
        "outputId": "13e36b4b-6568-4f59-cfef-f20bd94ebb96"
      },
      "execution_count": 5,
      "outputs": [
        {
          "output_type": "stream",
          "name": "stdout",
          "text": [
            "Mounted at /content/drive\n"
          ]
        }
      ]
    },
    {
      "cell_type": "code",
      "source": [
        "# Выведем версии используемых модулей. Версия detecto отобразилась при установке detecto==1.2.2 \n",
        "session_info.show()"
      ],
      "metadata": {
        "colab": {
          "base_uri": "https://localhost:8080/",
          "height": 364
        },
        "id": "K7P-rMBC5BGd",
        "outputId": "7aac05af-a4fb-4dd3-83f6-35b1f4eb07d2"
      },
      "execution_count": 3,
      "outputs": [
        {
          "output_type": "execute_result",
          "data": {
            "text/plain": [
              "<IPython.core.display.HTML object>"
            ],
            "text/html": [
              "<details>\n",
              "<summary>Click to view session information</summary>\n",
              "<pre>\n",
              "-----\n",
              "detecto             NA\n",
              "matplotlib          3.2.2\n",
              "numpy               1.21.6\n",
              "session_info        1.0.0\n",
              "torch               1.12.1+cu113\n",
              "torchvision         0.13.1+cu113\n",
              "-----\n",
              "</pre>\n",
              "<details>\n",
              "<summary>Click to view modules imported as dependencies</summary>\n",
              "<pre>\n",
              "PIL                         7.1.2\n",
              "astor                       0.8.1\n",
              "astunparse                  1.6.3\n",
              "backcall                    0.2.0\n",
              "certifi                     2022.06.15\n",
              "cffi                        1.15.1\n",
              "chardet                     3.0.4\n",
              "cloudpickle                 1.5.0\n",
              "cv2                         4.6.0\n",
              "cycler                      0.10.0\n",
              "cython_runtime              NA\n",
              "dateutil                    2.8.2\n",
              "debugpy                     1.0.0\n",
              "decorator                   4.4.2\n",
              "defusedxml                  0.7.1\n",
              "dill                        0.3.5.1\n",
              "google                      NA\n",
              "httplib2                    0.17.4\n",
              "idna                        2.10\n",
              "ipykernel                   5.3.4\n",
              "ipython_genutils            0.2.0\n",
              "ipywidgets                  7.7.1\n",
              "kiwisolver                  1.4.4\n",
              "mpl_toolkits                NA\n",
              "numexpr                     2.8.3\n",
              "packaging                   21.3\n",
              "pandas                      1.3.5\n",
              "pexpect                     4.8.0\n",
              "pickleshare                 0.7.5\n",
              "pkg_resources               NA\n",
              "portpicker                  NA\n",
              "prompt_toolkit              2.0.10\n",
              "psutil                      5.4.8\n",
              "ptyprocess                  0.7.0\n",
              "pyarrow                     6.0.1\n",
              "pydev_ipython               NA\n",
              "pydevconsole                NA\n",
              "pydevd                      2.0.0\n",
              "pydevd_concurrency_analyser NA\n",
              "pydevd_file_utils           NA\n",
              "pydevd_plugins              NA\n",
              "pydevd_tracing              NA\n",
              "pygments                    2.6.1\n",
              "pyparsing                   3.0.9\n",
              "pytz                        2022.2.1\n",
              "requests                    2.23.0\n",
              "sitecustomize               NA\n",
              "six                         1.15.0\n",
              "socks                       1.7.1\n",
              "sphinxcontrib               NA\n",
              "storemagic                  NA\n",
              "tornado                     5.1.1\n",
              "tqdm                        4.64.1\n",
              "traitlets                   5.1.1\n",
              "typing_extensions           NA\n",
              "urllib3                     1.24.3\n",
              "wcwidth                     0.2.5\n",
              "zmq                         23.2.1\n",
              "</pre>\n",
              "</details> <!-- seems like this ends pre, so might as well be explicit -->\n",
              "<pre>\n",
              "-----\n",
              "IPython             7.9.0\n",
              "jupyter_client      6.1.12\n",
              "jupyter_core        4.11.1\n",
              "notebook            5.3.1\n",
              "-----\n",
              "Python 3.7.14 (default, Sep  8 2022, 00:06:44) [GCC 7.5.0]\n",
              "Linux-5.10.133+-x86_64-with-Ubuntu-18.04-bionic\n",
              "-----\n",
              "Session information updated at 2022-10-04 12:21\n",
              "</pre>\n",
              "</details>"
            ]
          },
          "metadata": {},
          "execution_count": 3
        }
      ]
    },
    {
      "cell_type": "code",
      "source": [
        "# Разархивируем архив detecto.zip содержащий папки с картинками и разметкой для обучения и валидации.\n",
        "!unzip /content/drive/My\\ Drive/detecto.zip -d /content/drive/My\\ Drive/"
      ],
      "metadata": {
        "colab": {
          "base_uri": "https://localhost:8080/"
        },
        "id": "hGUTqa2I-nD0",
        "outputId": "0d874fb1-4f93-4bb0-e6b6-deb60ac519e3"
      },
      "execution_count": null,
      "outputs": [
        {
          "output_type": "stream",
          "name": "stdout",
          "text": [
            "Archive:  /content/drive/My Drive/detecto.zip\n",
            "   creating: /content/drive/My Drive/detecto/\n",
            "   creating: /content/drive/My Drive/detecto/model/\n",
            "   creating: /content/drive/My Drive/detecto/train/\n",
            "  inflating: /content/drive/My Drive/detecto/train/11_6_2014_19_14_5_514_0.png  \n",
            "  inflating: /content/drive/My Drive/detecto/train/12_6_2014_19_50_8_30_0.png  \n",
            "  inflating: /content/drive/My Drive/detecto/train/21_5_2014_19_47_19_971_0.png  \n",
            "  inflating: /content/drive/My Drive/detecto/train/21_5_2014_20_14_10_742_0.png  \n",
            "  inflating: /content/drive/My Drive/detecto/train/21_5_2014_20_4_33_361_0.png  \n",
            "  inflating: /content/drive/My Drive/detecto/train/A300AX76.png  \n",
            "  inflating: /content/drive/My Drive/detecto/train/A318BO76.png  \n",
            "  inflating: /content/drive/My Drive/detecto/train/A398TH27.png  \n",
            "  inflating: /content/drive/My Drive/detecto/train/A398XB198.png  \n",
            "  inflating: /content/drive/My Drive/detecto/train/A399AE147.png  \n",
            "  inflating: /content/drive/My Drive/detecto/train/A399AE39.png  \n",
            "  inflating: /content/drive/My Drive/detecto/train/A399BX193.png  \n",
            "  inflating: /content/drive/My Drive/detecto/train/A399EH750.png  \n",
            "  inflating: /content/drive/My Drive/detecto/train/A399KB82.png  \n",
            "  inflating: /content/drive/My Drive/detecto/train/A399OA116.png  \n",
            "  inflating: /content/drive/My Drive/detecto/train/A399PA199.png  \n",
            "  inflating: /content/drive/My Drive/detecto/train/A399TT190.png  \n",
            "  inflating: /content/drive/My Drive/detecto/train/A400CK178.png  \n",
            "  inflating: /content/drive/My Drive/detecto/train/A400ET178.png  \n",
            "  inflating: /content/drive/My Drive/detecto/train/A400HA37.png  \n",
            "  inflating: /content/drive/My Drive/detecto/train/A400HA82.png  \n",
            "  inflating: /content/drive/My Drive/detecto/train/A400OO178.png  \n",
            "  inflating: /content/drive/My Drive/detecto/train/A400TX93.png  \n",
            "  inflating: /content/drive/My Drive/detecto/train/A400XE82.png  \n",
            "  inflating: /content/drive/My Drive/detecto/train/A400XO178.png  \n",
            "  inflating: /content/drive/My Drive/detecto/train/A400YE39.png  \n",
            "  inflating: /content/drive/My Drive/detecto/train/A401AA38.png  \n",
            "  inflating: /content/drive/My Drive/detecto/train/A401EY92.png  \n",
            "  inflating: /content/drive/My Drive/detecto/train/A401HA156.png  \n",
            "  inflating: /content/drive/My Drive/detecto/train/A401HC82.png  \n",
            "  inflating: /content/drive/My Drive/detecto/train/A402BM178_0.png  \n",
            "  inflating: /content/drive/My Drive/detecto/train/A402EY164.png  \n",
            "  inflating: /content/drive/My Drive/detecto/train/A402HA82.png  \n",
            "  inflating: /content/drive/My Drive/detecto/train/A402OT178.png  \n",
            "  inflating: /content/drive/My Drive/detecto/train/A402XK76.png  \n",
            "  inflating: /content/drive/My Drive/detecto/train/A403AA78.png  \n",
            "  inflating: /content/drive/My Drive/detecto/train/A403CH190.png  \n",
            "  inflating: /content/drive/My Drive/detecto/train/A403EK37.png  \n",
            "  inflating: /content/drive/My Drive/detecto/train/A403KP60.png  \n",
            "  inflating: /content/drive/My Drive/detecto/train/A403XA37.png  \n",
            "  inflating: /content/drive/My Drive/detecto/train/A403YO154.png  \n",
            "  inflating: /content/drive/My Drive/detecto/train/A404AA48.png  \n",
            "  inflating: /content/drive/My Drive/detecto/train/A404AB122.png  \n",
            "  inflating: /content/drive/My Drive/detecto/train/A404CB82.png  \n",
            "  inflating: /content/drive/My Drive/detecto/train/A510TH125.png  \n",
            "  inflating: /content/drive/My Drive/detecto/train/A591TE93_0.png  \n",
            "  inflating: /content/drive/My Drive/detecto/train/A600YB35.png  \n",
            "  inflating: /content/drive/My Drive/detecto/train/A701OA92.png  \n",
            "  inflating: /content/drive/My Drive/detecto/train/A815XH82.png  \n",
            "  inflating: /content/drive/My Drive/detecto/train/A854TO35_0.png  \n",
            "  inflating: /content/drive/My Drive/detecto/train/A982CK92.png  \n",
            "  inflating: /content/drive/My Drive/detecto/train/B215YK198.png  \n",
            "  inflating: /content/drive/My Drive/detecto/train/B306EO47.png  \n",
            "  inflating: /content/drive/My Drive/detecto/train/B312XY77.png  \n",
            "  inflating: /content/drive/My Drive/detecto/train/B430BB93.png  \n",
            "  inflating: /content/drive/My Drive/detecto/train/B505YP64.png  \n",
            "  inflating: /content/drive/My Drive/detecto/train/B612PP178.png  \n",
            "  inflating: /content/drive/My Drive/detecto/train/B614XA47.png  \n",
            "  inflating: /content/drive/My Drive/detecto/train/B707EH50.png  \n",
            "  inflating: /content/drive/My Drive/detecto/train/B814TK33.png  \n",
            "  inflating: /content/drive/My Drive/detecto/train/B989AE46_0.png  \n",
            "  inflating: /content/drive/My Drive/detecto/train/C105CE93.png  \n",
            "  inflating: /content/drive/My Drive/detecto/train/C173OX56.png  \n",
            "  inflating: /content/drive/My Drive/detecto/train/C242YO77.png  \n",
            "  inflating: /content/drive/My Drive/detecto/train/C310EH55.png  \n",
            "  inflating: /content/drive/My Drive/detecto/train/C411KT52.png  \n",
            "  inflating: /content/drive/My Drive/detecto/train/C562XX36.png  \n",
            "  inflating: /content/drive/My Drive/detecto/train/C614ET102.png  \n",
            "  inflating: /content/drive/My Drive/detecto/train/C713CP34.png  \n",
            "  inflating: /content/drive/My Drive/detecto/train/C824EX39.png  \n",
            "  inflating: /content/drive/My Drive/detecto/train/C846XC199.png  \n",
            "  inflating: /content/drive/My Drive/detecto/train/C916BX69.png  \n",
            "  inflating: /content/drive/My Drive/detecto/train/E063TX750.png  \n",
            "  inflating: /content/drive/My Drive/detecto/train/E066YA35.png  \n",
            "  inflating: /content/drive/My Drive/detecto/train/E144KX98.png  \n",
            "  inflating: /content/drive/My Drive/detecto/train/E227AB799.png  \n",
            "  inflating: /content/drive/My Drive/detecto/train/E303HB174.png  \n",
            "  inflating: /content/drive/My Drive/detecto/train/E403OP21.png  \n",
            "  inflating: /content/drive/My Drive/detecto/train/E517TB57.png  \n",
            "  inflating: /content/drive/My Drive/detecto/train/E635KE28.png  \n",
            "  inflating: /content/drive/My Drive/detecto/train/E707OY161.png  \n",
            "  inflating: /content/drive/My Drive/detecto/train/H023TE32.png  \n",
            "  inflating: /content/drive/My Drive/detecto/train/H197CT32.png  \n",
            "  inflating: /content/drive/My Drive/detecto/train/H294XK68.png  \n",
            "  inflating: /content/drive/My Drive/detecto/train/H388HP163_0.png  \n",
            "  inflating: /content/drive/My Drive/detecto/train/H489XP40.png  \n",
            "  inflating: /content/drive/My Drive/detecto/train/H570OY32.png  \n",
            "  inflating: /content/drive/My Drive/detecto/train/H658HE69.png  \n",
            "  inflating: /content/drive/My Drive/detecto/train/H674EO27.png  \n",
            "  inflating: /content/drive/My Drive/detecto/train/H745PE102.png  \n",
            "  inflating: /content/drive/My Drive/detecto/train/H769KC60.png  \n",
            "  inflating: /content/drive/My Drive/detecto/train/K090AO134.png  \n",
            "  inflating: /content/drive/My Drive/detecto/train/K159EO58_0.png  \n",
            "  inflating: /content/drive/My Drive/detecto/train/K257BH23.png  \n",
            "  inflating: /content/drive/My Drive/detecto/train/K354AX97.png  \n",
            "  inflating: /content/drive/My Drive/detecto/train/K450EC77.png  \n",
            "  inflating: /content/drive/My Drive/detecto/train/K532AY199.png  \n",
            "  inflating: /content/drive/My Drive/detecto/train/K587HY96.png  \n",
            "  inflating: /content/drive/My Drive/detecto/train/K669EA154.png  \n",
            "  inflating: /content/drive/My Drive/detecto/train/K751BT57.png  \n",
            "  inflating: /content/drive/My Drive/detecto/train/M004BP54_0.png  \n",
            "  inflating: /content/drive/My Drive/detecto/train/M128BH33_0.png  \n",
            "  inflating: /content/drive/My Drive/detecto/train/M246OY102_0.png  \n",
            "  inflating: /content/drive/My Drive/detecto/train/M348EX163_0.png  \n",
            "  inflating: /content/drive/My Drive/detecto/train/M475AB99_0.png  \n",
            "  inflating: /content/drive/My Drive/detecto/train/M568OE28_0.png  \n",
            "  inflating: /content/drive/My Drive/detecto/train/M609XH31_0.png  \n",
            "  inflating: /content/drive/My Drive/detecto/train/M784AO46_0.png  \n",
            "  inflating: /content/drive/My Drive/detecto/train/O056CY102.png  \n",
            "  inflating: /content/drive/My Drive/detecto/train/O120EX72.png  \n",
            "  inflating: /content/drive/My Drive/detecto/train/O152BB64_0.png  \n",
            "  inflating: /content/drive/My Drive/detecto/train/O228HK68.png  \n",
            "  inflating: /content/drive/My Drive/detecto/train/O264OO24_0.png  \n",
            "  inflating: /content/drive/My Drive/detecto/train/O319CH99.png  \n",
            "  inflating: /content/drive/My Drive/detecto/train/O415EX52.png  \n",
            "  inflating: /content/drive/My Drive/detecto/train/O534AH52.png  \n",
            "  inflating: /content/drive/My Drive/detecto/train/O648TX123.png  \n",
            "  inflating: /content/drive/My Drive/detecto/train/O772KT60.png  \n",
            "  inflating: /content/drive/My Drive/detecto/train/P502ET60.png  \n",
            "  inflating: /content/drive/My Drive/detecto/train/X161BC73.png  \n",
            "  inflating: /content/drive/My Drive/detecto/train/X534HO52_0.png  \n",
            "  inflating: /content/drive/My Drive/detecto/train/X919EH199.png  \n",
            "  inflating: /content/drive/My Drive/detecto/train/X920KA14.png  \n",
            "  inflating: /content/drive/My Drive/detecto/train/X921BE90.png  \n",
            "  inflating: /content/drive/My Drive/detecto/train/X921TH163.png  \n",
            "  inflating: /content/drive/My Drive/detecto/train/X922BO50.png  \n",
            "  inflating: /content/drive/My Drive/detecto/train/X922CT47.png  \n",
            "  inflating: /content/drive/My Drive/detecto/train/X922HE69.png  \n",
            "  inflating: /content/drive/My Drive/detecto/train/X922XX12.png  \n",
            "  inflating: /content/drive/My Drive/detecto/train/X922XY150.png  \n",
            "  inflating: /content/drive/My Drive/detecto/train/X923AB99.png  \n",
            "  inflating: /content/drive/My Drive/detecto/train/X924AT761.png  \n",
            "  inflating: /content/drive/My Drive/detecto/train/X924OH98.png  \n",
            "  inflating: /content/drive/My Drive/detecto/train/X924TC197.png  \n",
            "  inflating: /content/drive/My Drive/detecto/train/X924XP123.png  \n",
            "  inflating: /content/drive/My Drive/detecto/train/X924YX197.png  \n",
            "  inflating: /content/drive/My Drive/detecto/train/X925EE76.png  \n",
            "  inflating: /content/drive/My Drive/detecto/train/Y033YP174.png  \n",
            "  inflating: /content/drive/My Drive/detecto/train/Y154YA102.png  \n",
            "  inflating: /content/drive/My Drive/detecto/train/Y155BK125.png  \n",
            "  inflating: /content/drive/My Drive/detecto/train/Y155BT193.png  \n",
            "  inflating: /content/drive/My Drive/detecto/train/Y155CA750.png  \n",
            "  inflating: /content/drive/My Drive/detecto/train/Y155ET178.png  \n",
            "  inflating: /content/drive/My Drive/detecto/train/Y282YE102.png  \n",
            "  inflating: /content/drive/My Drive/detecto/train/Y372EA71.png  \n",
            "  inflating: /content/drive/My Drive/detecto/train/Y373BK163.png  \n",
            "  inflating: /content/drive/My Drive/detecto/train/Y373HP123.png  \n",
            "  inflating: /content/drive/My Drive/detecto/train/Y373YB174.png  \n",
            "  inflating: /content/drive/My Drive/detecto/train/Y378AO136.png  \n",
            "  inflating: /content/drive/My Drive/detecto/train/Y440CH102.png  \n",
            "  inflating: /content/drive/My Drive/detecto/train/Y441BO98.png  \n",
            "  inflating: /content/drive/My Drive/detecto/train/Y441CT799.png  \n",
            "  inflating: /content/drive/My Drive/detecto/train/Y442BA197.png  \n",
            "  inflating: /content/drive/My Drive/detecto/train/Y545KX125.png  \n",
            "  inflating: /content/drive/My Drive/detecto/train/Y545OA56.png  \n",
            "  inflating: /content/drive/My Drive/detecto/train/Y661BX69.png  \n",
            "  inflating: /content/drive/My Drive/detecto/train/Y731BC174.png  \n",
            "  inflating: /content/drive/My Drive/detecto/train/Y774PC116.png  \n",
            "  inflating: /content/drive/My Drive/detecto/train/Y774TB750.png  \n",
            "  inflating: /content/drive/My Drive/detecto/train/Y849HO67.png  \n",
            "   creating: /content/drive/My Drive/detecto/training_labels/\n",
            "  inflating: /content/drive/My Drive/detecto/training_labels/11_6_2014_19_14_5_514_0.xml  \n",
            "  inflating: /content/drive/My Drive/detecto/training_labels/12_6_2014_19_50_8_30_0.xml  \n",
            "  inflating: /content/drive/My Drive/detecto/training_labels/21_5_2014_19_47_19_971_0.xml  \n",
            "  inflating: /content/drive/My Drive/detecto/training_labels/21_5_2014_20_14_10_742_0.xml  \n",
            "  inflating: /content/drive/My Drive/detecto/training_labels/21_5_2014_20_4_33_361_0.xml  \n",
            "  inflating: /content/drive/My Drive/detecto/training_labels/A300AX76.xml  \n",
            "  inflating: /content/drive/My Drive/detecto/training_labels/A318BO76.xml  \n",
            "  inflating: /content/drive/My Drive/detecto/training_labels/A398TH27.xml  \n",
            "  inflating: /content/drive/My Drive/detecto/training_labels/A398XB198.xml  \n",
            "  inflating: /content/drive/My Drive/detecto/training_labels/A399AE147.xml  \n",
            "  inflating: /content/drive/My Drive/detecto/training_labels/A399AE39.xml  \n",
            "  inflating: /content/drive/My Drive/detecto/training_labels/A399BX193.xml  \n",
            "  inflating: /content/drive/My Drive/detecto/training_labels/A399EH750.xml  \n",
            "  inflating: /content/drive/My Drive/detecto/training_labels/A399KB82.xml  \n",
            "  inflating: /content/drive/My Drive/detecto/training_labels/A399OA116.xml  \n",
            "  inflating: /content/drive/My Drive/detecto/training_labels/A399PA199.xml  \n",
            "  inflating: /content/drive/My Drive/detecto/training_labels/A399TT190.xml  \n",
            "  inflating: /content/drive/My Drive/detecto/training_labels/A400CK178.xml  \n",
            "  inflating: /content/drive/My Drive/detecto/training_labels/A400ET178.xml  \n",
            "  inflating: /content/drive/My Drive/detecto/training_labels/A400HA37.xml  \n",
            "  inflating: /content/drive/My Drive/detecto/training_labels/A400HA82.xml  \n",
            "  inflating: /content/drive/My Drive/detecto/training_labels/A400OO178.xml  \n",
            "  inflating: /content/drive/My Drive/detecto/training_labels/A400TX93.xml  \n",
            "  inflating: /content/drive/My Drive/detecto/training_labels/A400XE82.xml  \n",
            "  inflating: /content/drive/My Drive/detecto/training_labels/A400XO178.xml  \n",
            "  inflating: /content/drive/My Drive/detecto/training_labels/A400YE39.xml  \n",
            "  inflating: /content/drive/My Drive/detecto/training_labels/A401AA38.xml  \n",
            "  inflating: /content/drive/My Drive/detecto/training_labels/A401EY92.xml  \n",
            "  inflating: /content/drive/My Drive/detecto/training_labels/A401HA156.xml  \n",
            "  inflating: /content/drive/My Drive/detecto/training_labels/A401HC82.xml  \n",
            "  inflating: /content/drive/My Drive/detecto/training_labels/A402BM178_0.xml  \n",
            "  inflating: /content/drive/My Drive/detecto/training_labels/A402EY164.xml  \n",
            "  inflating: /content/drive/My Drive/detecto/training_labels/A402HA82.xml  \n",
            "  inflating: /content/drive/My Drive/detecto/training_labels/A402OT178.xml  \n",
            "  inflating: /content/drive/My Drive/detecto/training_labels/A402XK76.xml  \n",
            "  inflating: /content/drive/My Drive/detecto/training_labels/A403AA78.xml  \n",
            "  inflating: /content/drive/My Drive/detecto/training_labels/A403CH190.xml  \n",
            "  inflating: /content/drive/My Drive/detecto/training_labels/A403EK37.xml  \n",
            "  inflating: /content/drive/My Drive/detecto/training_labels/A403KP60.xml  \n",
            "  inflating: /content/drive/My Drive/detecto/training_labels/A403XA37.xml  \n",
            "  inflating: /content/drive/My Drive/detecto/training_labels/A403YO154.xml  \n",
            "  inflating: /content/drive/My Drive/detecto/training_labels/A404AA48.xml  \n",
            "  inflating: /content/drive/My Drive/detecto/training_labels/A404AB122.xml  \n",
            "  inflating: /content/drive/My Drive/detecto/training_labels/A404CB82.xml  \n",
            "  inflating: /content/drive/My Drive/detecto/training_labels/A510TH125.xml  \n",
            "  inflating: /content/drive/My Drive/detecto/training_labels/A591TE93_0.xml  \n",
            "  inflating: /content/drive/My Drive/detecto/training_labels/A600YB35.xml  \n",
            "  inflating: /content/drive/My Drive/detecto/training_labels/A701OA92.xml  \n",
            "  inflating: /content/drive/My Drive/detecto/training_labels/A815XH82.xml  \n",
            "  inflating: /content/drive/My Drive/detecto/training_labels/A854TO35_0.xml  \n",
            "  inflating: /content/drive/My Drive/detecto/training_labels/A982CK92.xml  \n",
            "  inflating: /content/drive/My Drive/detecto/training_labels/B215YK198.xml  \n",
            "  inflating: /content/drive/My Drive/detecto/training_labels/B306EO47.xml  \n",
            "  inflating: /content/drive/My Drive/detecto/training_labels/B312XY77.xml  \n",
            "  inflating: /content/drive/My Drive/detecto/training_labels/B430BB93.xml  \n",
            "  inflating: /content/drive/My Drive/detecto/training_labels/B505YP64.xml  \n",
            "  inflating: /content/drive/My Drive/detecto/training_labels/B612PP178.xml  \n",
            "  inflating: /content/drive/My Drive/detecto/training_labels/B614XA47.xml  \n",
            "  inflating: /content/drive/My Drive/detecto/training_labels/B707EH50.xml  \n",
            "  inflating: /content/drive/My Drive/detecto/training_labels/B814TK33.xml  \n",
            "  inflating: /content/drive/My Drive/detecto/training_labels/B989AE46_0.xml  \n",
            "  inflating: /content/drive/My Drive/detecto/training_labels/C105CE93.xml  \n",
            "  inflating: /content/drive/My Drive/detecto/training_labels/C173OX56.xml  \n",
            "  inflating: /content/drive/My Drive/detecto/training_labels/C242YO77.xml  \n",
            "  inflating: /content/drive/My Drive/detecto/training_labels/C310EH55.xml  \n",
            "  inflating: /content/drive/My Drive/detecto/training_labels/C411KT52.xml  \n",
            "  inflating: /content/drive/My Drive/detecto/training_labels/C562XX36.xml  \n",
            "  inflating: /content/drive/My Drive/detecto/training_labels/C614ET102.xml  \n",
            "  inflating: /content/drive/My Drive/detecto/training_labels/C713CP34.xml  \n",
            "  inflating: /content/drive/My Drive/detecto/training_labels/C824EX39.xml  \n",
            "  inflating: /content/drive/My Drive/detecto/training_labels/C846XC199.xml  \n",
            "  inflating: /content/drive/My Drive/detecto/training_labels/C916BX69.xml  \n",
            "  inflating: /content/drive/My Drive/detecto/training_labels/E063TX750.xml  \n",
            "  inflating: /content/drive/My Drive/detecto/training_labels/E066YA35.xml  \n",
            "  inflating: /content/drive/My Drive/detecto/training_labels/E144KX98.xml  \n",
            "  inflating: /content/drive/My Drive/detecto/training_labels/E227AB799.xml  \n",
            "  inflating: /content/drive/My Drive/detecto/training_labels/E303HB174.xml  \n",
            "  inflating: /content/drive/My Drive/detecto/training_labels/E403OP21.xml  \n",
            "  inflating: /content/drive/My Drive/detecto/training_labels/E517TB57.xml  \n",
            "  inflating: /content/drive/My Drive/detecto/training_labels/E635KE28.xml  \n",
            "  inflating: /content/drive/My Drive/detecto/training_labels/E707OY161.xml  \n",
            "  inflating: /content/drive/My Drive/detecto/training_labels/H023TE32.xml  \n",
            "  inflating: /content/drive/My Drive/detecto/training_labels/H197CT32.xml  \n",
            "  inflating: /content/drive/My Drive/detecto/training_labels/H294XK68.xml  \n",
            "  inflating: /content/drive/My Drive/detecto/training_labels/H388HP163_0.xml  \n",
            "  inflating: /content/drive/My Drive/detecto/training_labels/H489XP40.xml  \n",
            "  inflating: /content/drive/My Drive/detecto/training_labels/H570OY32.xml  \n",
            "  inflating: /content/drive/My Drive/detecto/training_labels/H658HE69.xml  \n",
            "  inflating: /content/drive/My Drive/detecto/training_labels/H674EO27.xml  \n",
            "  inflating: /content/drive/My Drive/detecto/training_labels/H745PE102.xml  \n",
            "  inflating: /content/drive/My Drive/detecto/training_labels/H769KC60.xml  \n",
            "  inflating: /content/drive/My Drive/detecto/training_labels/K090AO134.xml  \n",
            "  inflating: /content/drive/My Drive/detecto/training_labels/K159EO58_0.xml  \n",
            "  inflating: /content/drive/My Drive/detecto/training_labels/K257BH23.xml  \n",
            "  inflating: /content/drive/My Drive/detecto/training_labels/K354AX97.xml  \n",
            "  inflating: /content/drive/My Drive/detecto/training_labels/K450EC77.xml  \n",
            "  inflating: /content/drive/My Drive/detecto/training_labels/K532AY199.xml  \n",
            "  inflating: /content/drive/My Drive/detecto/training_labels/K587HY96.xml  \n",
            "  inflating: /content/drive/My Drive/detecto/training_labels/K669EA154.xml  \n",
            "  inflating: /content/drive/My Drive/detecto/training_labels/K751BT57.xml  \n",
            "  inflating: /content/drive/My Drive/detecto/training_labels/M004BP54_0.xml  \n",
            "  inflating: /content/drive/My Drive/detecto/training_labels/M128BH33_0.xml  \n",
            "  inflating: /content/drive/My Drive/detecto/training_labels/M246OY102_0.xml  \n",
            "  inflating: /content/drive/My Drive/detecto/training_labels/M348EX163_0.xml  \n",
            "  inflating: /content/drive/My Drive/detecto/training_labels/M475AB99_0.xml  \n",
            "  inflating: /content/drive/My Drive/detecto/training_labels/M568OE28_0.xml  \n",
            "  inflating: /content/drive/My Drive/detecto/training_labels/M609XH31_0.xml  \n",
            "  inflating: /content/drive/My Drive/detecto/training_labels/M784AO46_0.xml  \n",
            "  inflating: /content/drive/My Drive/detecto/training_labels/O056CY102.xml  \n",
            "  inflating: /content/drive/My Drive/detecto/training_labels/O120EX72.xml  \n",
            "  inflating: /content/drive/My Drive/detecto/training_labels/O152BB64_0.xml  \n",
            "  inflating: /content/drive/My Drive/detecto/training_labels/O228HK68.xml  \n",
            "  inflating: /content/drive/My Drive/detecto/training_labels/O264OO24_0.xml  \n",
            "  inflating: /content/drive/My Drive/detecto/training_labels/O319CH99.xml  \n",
            "  inflating: /content/drive/My Drive/detecto/training_labels/O415EX52.xml  \n",
            "  inflating: /content/drive/My Drive/detecto/training_labels/O534AH52.xml  \n",
            "  inflating: /content/drive/My Drive/detecto/training_labels/O648TX123.xml  \n",
            "  inflating: /content/drive/My Drive/detecto/training_labels/O772KT60.xml  \n",
            "  inflating: /content/drive/My Drive/detecto/training_labels/P502ET60.xml  \n",
            "  inflating: /content/drive/My Drive/detecto/training_labels/X161BC73.xml  \n",
            "  inflating: /content/drive/My Drive/detecto/training_labels/X534HO52_0.xml  \n",
            "  inflating: /content/drive/My Drive/detecto/training_labels/X919EH199.xml  \n",
            "  inflating: /content/drive/My Drive/detecto/training_labels/X920KA14.xml  \n",
            "  inflating: /content/drive/My Drive/detecto/training_labels/X921BE90.xml  \n",
            "  inflating: /content/drive/My Drive/detecto/training_labels/X921TH163.xml  \n",
            "  inflating: /content/drive/My Drive/detecto/training_labels/X922BO50.xml  \n",
            "  inflating: /content/drive/My Drive/detecto/training_labels/X922CT47.xml  \n",
            "  inflating: /content/drive/My Drive/detecto/training_labels/X922HE69.xml  \n",
            "  inflating: /content/drive/My Drive/detecto/training_labels/X922XX12.xml  \n",
            "  inflating: /content/drive/My Drive/detecto/training_labels/X922XY150.xml  \n",
            "  inflating: /content/drive/My Drive/detecto/training_labels/X923AB99.xml  \n",
            "  inflating: /content/drive/My Drive/detecto/training_labels/X924AT761.xml  \n",
            "  inflating: /content/drive/My Drive/detecto/training_labels/X924OH98.xml  \n",
            "  inflating: /content/drive/My Drive/detecto/training_labels/X924TC197.xml  \n",
            "  inflating: /content/drive/My Drive/detecto/training_labels/X924XP123.xml  \n",
            "  inflating: /content/drive/My Drive/detecto/training_labels/X924YX197.xml  \n",
            "  inflating: /content/drive/My Drive/detecto/training_labels/X925EE76.xml  \n",
            "  inflating: /content/drive/My Drive/detecto/training_labels/Y033YP174.xml  \n",
            "  inflating: /content/drive/My Drive/detecto/training_labels/Y154YA102.xml  \n",
            "  inflating: /content/drive/My Drive/detecto/training_labels/Y155BK125.xml  \n",
            "  inflating: /content/drive/My Drive/detecto/training_labels/Y155BT193.xml  \n",
            "  inflating: /content/drive/My Drive/detecto/training_labels/Y155CA750.xml  \n",
            "  inflating: /content/drive/My Drive/detecto/training_labels/Y155ET178.xml  \n",
            "  inflating: /content/drive/My Drive/detecto/training_labels/Y282YE102.xml  \n",
            "  inflating: /content/drive/My Drive/detecto/training_labels/Y372EA71.xml  \n",
            "  inflating: /content/drive/My Drive/detecto/training_labels/Y373BK163.xml  \n",
            "  inflating: /content/drive/My Drive/detecto/training_labels/Y373HP123.xml  \n",
            "  inflating: /content/drive/My Drive/detecto/training_labels/Y373YB174.xml  \n",
            "  inflating: /content/drive/My Drive/detecto/training_labels/Y378AO136.xml  \n",
            "  inflating: /content/drive/My Drive/detecto/training_labels/Y440CH102.xml  \n",
            "  inflating: /content/drive/My Drive/detecto/training_labels/Y441BO98.xml  \n",
            "  inflating: /content/drive/My Drive/detecto/training_labels/Y441CT799.xml  \n",
            "  inflating: /content/drive/My Drive/detecto/training_labels/Y442BA197.xml  \n",
            "  inflating: /content/drive/My Drive/detecto/training_labels/Y545KX125.xml  \n",
            "  inflating: /content/drive/My Drive/detecto/training_labels/Y545OA56.xml  \n",
            "  inflating: /content/drive/My Drive/detecto/training_labels/Y661BX69.xml  \n",
            "  inflating: /content/drive/My Drive/detecto/training_labels/Y731BC174.xml  \n",
            "  inflating: /content/drive/My Drive/detecto/training_labels/Y774PC116.xml  \n",
            "  inflating: /content/drive/My Drive/detecto/training_labels/Y774TB750.xml  \n",
            "  inflating: /content/drive/My Drive/detecto/training_labels/Y849HO67.xml  \n",
            "   creating: /content/drive/My Drive/detecto/val/\n",
            "  inflating: /content/drive/My Drive/detecto/val/A157CY82.png  \n",
            "  inflating: /content/drive/My Drive/detecto/val/A207KH799.png  \n",
            "  inflating: /content/drive/My Drive/detecto/val/B003YH16.png  \n",
            "  inflating: /content/drive/My Drive/detecto/val/B134PC799.png  \n",
            "  inflating: /content/drive/My Drive/detecto/val/C002EP07.png  \n",
            "  inflating: /content/drive/My Drive/detecto/val/C033EH152.png  \n",
            "  inflating: /content/drive/My Drive/detecto/val/E893OY799.png  \n",
            "  inflating: /content/drive/My Drive/detecto/val/E934BO40.png  \n",
            "  inflating: /content/drive/My Drive/detecto/val/H877AX86.png  \n",
            "  inflating: /content/drive/My Drive/detecto/val/H974TO36.png  \n",
            "  inflating: /content/drive/My Drive/detecto/val/K853AX134.png  \n",
            "  inflating: /content/drive/My Drive/detecto/val/K956BO154.png  \n",
            "  inflating: /content/drive/My Drive/detecto/val/M839BK60_0.png  \n",
            "  inflating: /content/drive/My Drive/detecto/val/M945YT102_0.png  \n",
            "  inflating: /content/drive/My Drive/detecto/val/O899KY39.png  \n",
            "  inflating: /content/drive/My Drive/detecto/val/O983YP40.png  \n",
            "  inflating: /content/drive/My Drive/detecto/val/X925KE98.png  \n",
            "  inflating: /content/drive/My Drive/detecto/val/X925KK47.png  \n",
            "  inflating: /content/drive/My Drive/detecto/val/X925YB61.png  \n",
            "  inflating: /content/drive/My Drive/detecto/val/Y849PO69.png  \n",
            "  inflating: /content/drive/My Drive/detecto/val/Y878AC116.png  \n",
            "  inflating: /content/drive/My Drive/detecto/val/Y878XA750.png  \n",
            "  inflating: /content/drive/My Drive/detecto/val/Y879CK96.png  \n",
            "  inflating: /content/drive/My Drive/detecto/val/Y879HB98.png  \n",
            "  inflating: /content/drive/My Drive/detecto/val/Y880BO178.png  \n",
            "   creating: /content/drive/My Drive/detecto/validation_labels/\n",
            "  inflating: /content/drive/My Drive/detecto/validation_labels/A157CY82.xml  \n",
            "  inflating: /content/drive/My Drive/detecto/validation_labels/A207KH799.xml  \n",
            "  inflating: /content/drive/My Drive/detecto/validation_labels/B003YH16.xml  \n",
            "  inflating: /content/drive/My Drive/detecto/validation_labels/B134PC799.xml  \n",
            "  inflating: /content/drive/My Drive/detecto/validation_labels/C002EP07.xml  \n",
            "  inflating: /content/drive/My Drive/detecto/validation_labels/C033EH152.xml  \n",
            "  inflating: /content/drive/My Drive/detecto/validation_labels/E893OY799.xml  \n",
            "  inflating: /content/drive/My Drive/detecto/validation_labels/E934BO40.xml  \n",
            "  inflating: /content/drive/My Drive/detecto/validation_labels/H877AX86.xml  \n",
            "  inflating: /content/drive/My Drive/detecto/validation_labels/H974TO36.xml  \n",
            "  inflating: /content/drive/My Drive/detecto/validation_labels/K853AX134.xml  \n",
            "  inflating: /content/drive/My Drive/detecto/validation_labels/K956BO154.xml  \n",
            "  inflating: /content/drive/My Drive/detecto/validation_labels/M839BK60_0.xml  \n",
            "  inflating: /content/drive/My Drive/detecto/validation_labels/M945YT102_0.xml  \n",
            "  inflating: /content/drive/My Drive/detecto/validation_labels/O899KY39.xml  \n",
            "  inflating: /content/drive/My Drive/detecto/validation_labels/O983YP40.xml  \n",
            "  inflating: /content/drive/My Drive/detecto/validation_labels/X925KE98.xml  \n",
            "  inflating: /content/drive/My Drive/detecto/validation_labels/X925KK47.xml  \n",
            "  inflating: /content/drive/My Drive/detecto/validation_labels/X925YB61.xml  \n",
            "  inflating: /content/drive/My Drive/detecto/validation_labels/Y849PO69.xml  \n",
            "  inflating: /content/drive/My Drive/detecto/validation_labels/Y878AC116.xml  \n",
            "  inflating: /content/drive/My Drive/detecto/validation_labels/Y878XA750.xml  \n",
            "  inflating: /content/drive/My Drive/detecto/validation_labels/Y879CK96.xml  \n",
            "  inflating: /content/drive/My Drive/detecto/validation_labels/Y879HB98.xml  \n",
            "  inflating: /content/drive/My Drive/detecto/validation_labels/Y880BO178.xml  \n"
          ]
        }
      ]
    },
    {
      "cell_type": "code",
      "source": [
        "# Преобразование изображения в тензор и нормализация\n",
        "custom_transforms = transforms.Compose([\n",
        "transforms.ToTensor(),\n",
        "utils.normalize_transform(),\n",
        "])"
      ],
      "metadata": {
        "id": "XORGefSsXS_h"
      },
      "execution_count": null,
      "outputs": []
    },
    {
      "cell_type": "code",
      "source": [
        "%cd /content/drive/MyDrive\n",
        "root_dir = Path().cwd()\n",
        "print(root_dir)"
      ],
      "metadata": {
        "colab": {
          "base_uri": "https://localhost:8080/"
        },
        "id": "Qe5uYI2eOXfu",
        "outputId": "61e6e6ea-9b21-4de9-ae7f-9aa8fbe47d4b"
      },
      "execution_count": null,
      "outputs": [
        {
          "output_type": "stream",
          "name": "stdout",
          "text": [
            "/content/drive/MyDrive\n",
            "/content/drive/MyDrive\n"
          ]
        }
      ]
    },
    {
      "cell_type": "code",
      "source": [
        "#print(os.listdir('detecto/training_labels/'))\n",
        "# Пути к разметкам трейновой и валидационной части датасета\n",
        "path_to_train_labels = str(root_dir.joinpath(root_dir, 'detecto/training_labels/'))     \n",
        "path_to_val_labels = str(root_dir.joinpath(root_dir,'detecto/validation_labels/'))\n",
        "path_to_csv_train = str(root_dir.joinpath(root_dir,'train.csv'))\n",
        "path_to_csv_val = str(root_dir.joinpath(root_dir,'val.csv'))\n",
        "\n",
        "# Преобразование множества файлов разметки в один файл формата csv \n",
        "utils.xml_to_csv(path_to_train_labels, path_to_csv_train)\n",
        "utils.xml_to_csv(path_to_val_labels, path_to_csv_val)\n",
        "\n",
        "\n",
        "# Пути к папкам с картинками для обучения и валидации\n",
        "path_to_train_img = root_dir.joinpath(root_dir,'detecto/train/')\n",
        "path_to_val_img = root_dir.joinpath(root_dir,'detecto/val/')"
      ],
      "metadata": {
        "id": "bc7mEhmCZez1"
      },
      "execution_count": null,
      "outputs": []
    },
    {
      "cell_type": "code",
      "source": [
        "# Создание объектов датасета, чтение и преобразовние картинок\n",
        "train_dataset = core.Dataset(path_to_csv_train, path_to_train_img, transform = custom_transforms)\n",
        "val_dataset = core.Dataset(path_to_csv_val, path_to_val_img)\n",
        "\n",
        "loader = core.DataLoader(train_dataset, batch_size=2, shuffle=True)\n",
        "\n",
        "# Укажем какие классы у нас есть (метки классов)\n",
        "labels = ['0','1','2','3','4','5','6','7','8','9', 'А', 'В', 'С', 'Е', 'Н', 'К', 'М', 'О', 'Р', 'Т', 'Х', 'У']\n",
        "\n",
        "# Загрузим в модель метки\n",
        "model = core.Model(labels)\n"
      ],
      "metadata": {
        "colab": {
          "base_uri": "https://localhost:8080/",
          "height": 160,
          "referenced_widgets": [
            "f59eb449843e48939792a3568ae2e4eb",
            "243aee6ce5cc45cea935ef1d1bb43373",
            "137348723bee481d8e79714a02674338",
            "95bc71d6b98d47a2aba7711fbfe31760",
            "3bc16d67cce64761aa27ba81e593ac4b",
            "e100702508db4c1da380cb963331c47c",
            "10f989193854463ab20787566803c13b",
            "aa065fa283934dfda8fc78427a0b492e",
            "3c0b88f4bbab4ea0ba0883d1722d507c",
            "733c12a6daab49f6bdac4463ba28a864",
            "d2bd5e0578f14fa29a2af48f7b6b5c63"
          ]
        },
        "id": "JLaLpb7OCeQd",
        "outputId": "71a7188e-a2c4-48be-9917-378b3278d68c"
      },
      "execution_count": null,
      "outputs": [
        {
          "output_type": "stream",
          "name": "stderr",
          "text": [
            "/usr/local/lib/python3.7/dist-packages/torchvision/models/_utils.py:209: UserWarning: The parameter 'pretrained' is deprecated since 0.13 and will be removed in 0.15, please use 'weights' instead.\n",
            "  f\"The parameter '{pretrained_param}' is deprecated since 0.13 and will be removed in 0.15, \"\n",
            "/usr/local/lib/python3.7/dist-packages/torchvision/models/_utils.py:223: UserWarning: Arguments other than a weight enum or `None` for 'weights' are deprecated since 0.13 and will be removed in 0.15. The current behavior is equivalent to passing `weights=FasterRCNN_ResNet50_FPN_Weights.COCO_V1`. You can also use `weights=FasterRCNN_ResNet50_FPN_Weights.DEFAULT` to get the most up-to-date weights.\n",
            "  warnings.warn(msg)\n",
            "Downloading: \"https://download.pytorch.org/models/fasterrcnn_resnet50_fpn_coco-258fb6c6.pth\" to /root/.cache/torch/hub/checkpoints/fasterrcnn_resnet50_fpn_coco-258fb6c6.pth\n"
          ]
        },
        {
          "output_type": "display_data",
          "data": {
            "text/plain": [
              "  0%|          | 0.00/160M [00:00<?, ?B/s]"
            ],
            "application/vnd.jupyter.widget-view+json": {
              "version_major": 2,
              "version_minor": 0,
              "model_id": "f59eb449843e48939792a3568ae2e4eb"
            }
          },
          "metadata": {}
        }
      ]
    },
    {
      "cell_type": "code",
      "source": [
        "# Функция для обучения модели с разными параметрами\n",
        "def model_train(epochs_number, lr, wd, lr_st, number_of_experiment ):\n",
        "  losses = model.fit(loader, val_dataset, epochs=epochs_number, learning_rate=lr, weight_decay=wd, lr_step_size=lr_st ,verbose=True)\n",
        "\n",
        "  # Путь по которому будем сохранять веса дообученной модели в зависимости от номера эксперимента.\n",
        "  path_to_weights = root_dir.joinpath(root_dir, 'detecto/model/model_weights_'+str(number_of_experiment)+ '.pth')\n",
        "  model.save(path_to_weights)\n",
        "  \n",
        "  # Выведем график лосса\n",
        "  plt.plot(losses)\n",
        "  plt.title(\"График лосса\")\n",
        "  plt.show()\n"
      ],
      "metadata": {
        "id": "glxVAL0gYvDP"
      },
      "execution_count": null,
      "outputs": []
    },
    {
      "cell_type": "code",
      "source": [
        "# Обучим модель с разным количеством эпох, скоростью обучения, регуляризацией и шагом уменьшения скорости в порядке эксперимента.\n",
        "# В документации к detecto не нашел ничего о возможности менять оптимизатор. \n",
        "\n",
        "# Количество эпох\n",
        "epochs_number = [10, 15, 20]\n",
        "\n",
        "# Скорость обучения\n",
        "lr = [0.001, 0.003, 0.009]\n",
        "\n",
        "# Регуляризация (weight_decay)\n",
        "wd = [0.0005, 0.0001, 0.001]\n",
        "\n",
        "# Шаг уменьшения скорости обучения\n",
        "lr_st = [3, 2, 1]\n",
        "\n",
        "for i in range(3):\n",
        "  model_train(epochs_number[i], lr[i], wd[i], lr_st[i], i)"
      ],
      "metadata": {
        "id": "KUEmTa9MLIf8",
        "colab": {
          "base_uri": "https://localhost:8080/",
          "height": 1000
        },
        "outputId": "20d2cc73-f90a-460c-dd3e-860f0358d2f9"
      },
      "execution_count": null,
      "outputs": [
        {
          "output_type": "stream",
          "name": "stdout",
          "text": [
            "Epoch 1 of 10\n",
            "Begin iterating over training dataset\n"
          ]
        },
        {
          "output_type": "stream",
          "name": "stderr",
          "text": [
            "100%|██████████| 80/80 [00:48<00:00,  1.66it/s]\n"
          ]
        },
        {
          "output_type": "stream",
          "name": "stdout",
          "text": [
            "Begin iterating over validation dataset\n"
          ]
        },
        {
          "output_type": "stream",
          "name": "stderr",
          "text": [
            "100%|██████████| 25/25 [00:06<00:00,  3.77it/s]\n"
          ]
        },
        {
          "output_type": "stream",
          "name": "stdout",
          "text": [
            "Loss: 1.5406490755081177\n",
            "Epoch 2 of 10\n",
            "Begin iterating over training dataset\n"
          ]
        },
        {
          "output_type": "stream",
          "name": "stderr",
          "text": [
            "100%|██████████| 80/80 [00:20<00:00,  3.89it/s]\n"
          ]
        },
        {
          "output_type": "stream",
          "name": "stdout",
          "text": [
            "Begin iterating over validation dataset\n"
          ]
        },
        {
          "output_type": "stream",
          "name": "stderr",
          "text": [
            "100%|██████████| 25/25 [00:01<00:00, 14.29it/s]\n"
          ]
        },
        {
          "output_type": "stream",
          "name": "stdout",
          "text": [
            "Loss: 1.0102181625366211\n",
            "Epoch 3 of 10\n",
            "Begin iterating over training dataset\n"
          ]
        },
        {
          "output_type": "stream",
          "name": "stderr",
          "text": [
            "100%|██████████| 80/80 [00:21<00:00,  3.79it/s]\n"
          ]
        },
        {
          "output_type": "stream",
          "name": "stdout",
          "text": [
            "Begin iterating over validation dataset\n"
          ]
        },
        {
          "output_type": "stream",
          "name": "stderr",
          "text": [
            "100%|██████████| 25/25 [00:01<00:00, 14.41it/s]\n"
          ]
        },
        {
          "output_type": "stream",
          "name": "stdout",
          "text": [
            "Loss: 0.7166002988815308\n",
            "Epoch 4 of 10\n",
            "Begin iterating over training dataset\n"
          ]
        },
        {
          "output_type": "stream",
          "name": "stderr",
          "text": [
            "100%|██████████| 80/80 [00:21<00:00,  3.78it/s]\n"
          ]
        },
        {
          "output_type": "stream",
          "name": "stdout",
          "text": [
            "Begin iterating over validation dataset\n"
          ]
        },
        {
          "output_type": "stream",
          "name": "stderr",
          "text": [
            "100%|██████████| 25/25 [00:01<00:00, 14.19it/s]\n"
          ]
        },
        {
          "output_type": "stream",
          "name": "stdout",
          "text": [
            "Loss: 0.5994763922691345\n",
            "Epoch 5 of 10\n",
            "Begin iterating over training dataset\n"
          ]
        },
        {
          "output_type": "stream",
          "name": "stderr",
          "text": [
            "100%|██████████| 80/80 [00:21<00:00,  3.75it/s]\n"
          ]
        },
        {
          "output_type": "stream",
          "name": "stdout",
          "text": [
            "Begin iterating over validation dataset\n"
          ]
        },
        {
          "output_type": "stream",
          "name": "stderr",
          "text": [
            "100%|██████████| 25/25 [00:01<00:00, 14.27it/s]\n"
          ]
        },
        {
          "output_type": "stream",
          "name": "stdout",
          "text": [
            "Loss: 0.5683613431453705\n",
            "Epoch 6 of 10\n",
            "Begin iterating over training dataset\n"
          ]
        },
        {
          "output_type": "stream",
          "name": "stderr",
          "text": [
            "100%|██████████| 80/80 [00:21<00:00,  3.71it/s]\n"
          ]
        },
        {
          "output_type": "stream",
          "name": "stdout",
          "text": [
            "Begin iterating over validation dataset\n"
          ]
        },
        {
          "output_type": "stream",
          "name": "stderr",
          "text": [
            "100%|██████████| 25/25 [00:01<00:00, 14.38it/s]\n"
          ]
        },
        {
          "output_type": "stream",
          "name": "stdout",
          "text": [
            "Loss: 0.5600774669647217\n",
            "Epoch 7 of 10\n",
            "Begin iterating over training dataset\n"
          ]
        },
        {
          "output_type": "stream",
          "name": "stderr",
          "text": [
            "100%|██████████| 80/80 [00:21<00:00,  3.69it/s]\n"
          ]
        },
        {
          "output_type": "stream",
          "name": "stdout",
          "text": [
            "Begin iterating over validation dataset\n"
          ]
        },
        {
          "output_type": "stream",
          "name": "stderr",
          "text": [
            "100%|██████████| 25/25 [00:01<00:00, 14.25it/s]\n"
          ]
        },
        {
          "output_type": "stream",
          "name": "stdout",
          "text": [
            "Loss: 0.5477457141876221\n",
            "Epoch 8 of 10\n",
            "Begin iterating over training dataset\n"
          ]
        },
        {
          "output_type": "stream",
          "name": "stderr",
          "text": [
            "100%|██████████| 80/80 [00:21<00:00,  3.64it/s]\n"
          ]
        },
        {
          "output_type": "stream",
          "name": "stdout",
          "text": [
            "Begin iterating over validation dataset\n"
          ]
        },
        {
          "output_type": "stream",
          "name": "stderr",
          "text": [
            "100%|██████████| 25/25 [00:01<00:00, 14.08it/s]\n"
          ]
        },
        {
          "output_type": "stream",
          "name": "stdout",
          "text": [
            "Loss: 0.5453183829784394\n",
            "Epoch 9 of 10\n",
            "Begin iterating over training dataset\n"
          ]
        },
        {
          "output_type": "stream",
          "name": "stderr",
          "text": [
            "100%|██████████| 80/80 [00:22<00:00,  3.63it/s]\n"
          ]
        },
        {
          "output_type": "stream",
          "name": "stdout",
          "text": [
            "Begin iterating over validation dataset\n"
          ]
        },
        {
          "output_type": "stream",
          "name": "stderr",
          "text": [
            "100%|██████████| 25/25 [00:01<00:00, 14.07it/s]\n"
          ]
        },
        {
          "output_type": "stream",
          "name": "stdout",
          "text": [
            "Loss: 0.5371221959590912\n",
            "Epoch 10 of 10\n",
            "Begin iterating over training dataset\n"
          ]
        },
        {
          "output_type": "stream",
          "name": "stderr",
          "text": [
            "100%|██████████| 80/80 [00:21<00:00,  3.64it/s]\n"
          ]
        },
        {
          "output_type": "stream",
          "name": "stdout",
          "text": [
            "Begin iterating over validation dataset\n"
          ]
        },
        {
          "output_type": "stream",
          "name": "stderr",
          "text": [
            "100%|██████████| 25/25 [00:01<00:00, 13.93it/s]\n"
          ]
        },
        {
          "output_type": "stream",
          "name": "stdout",
          "text": [
            "Loss: 0.5373323678970336\n"
          ]
        },
        {
          "output_type": "display_data",
          "data": {
            "text/plain": [
              "<Figure size 432x288 with 1 Axes>"
            ],
            "image/png": "[encoded data removed]"
          },
          "metadata": {
            "needs_background": "light"
          }
        },
        {
          "output_type": "stream",
          "name": "stdout",
          "text": [
            "Epoch 1 of 15\n",
            "Begin iterating over training dataset\n"
          ]
        },
        {
          "output_type": "stream",
          "name": "stderr",
          "text": [
            "100%|██████████| 80/80 [00:22<00:00,  3.61it/s]\n"
          ]
        },
        {
          "output_type": "stream",
          "name": "stdout",
          "text": [
            "Begin iterating over validation dataset\n"
          ]
        },
        {
          "output_type": "stream",
          "name": "stderr",
          "text": [
            "100%|██████████| 25/25 [00:01<00:00, 13.90it/s]\n"
          ]
        },
        {
          "output_type": "stream",
          "name": "stdout",
          "text": [
            "Loss: 0.619854347705841\n",
            "Epoch 2 of 15\n",
            "Begin iterating over training dataset\n"
          ]
        },
        {
          "output_type": "stream",
          "name": "stderr",
          "text": [
            "100%|██████████| 80/80 [00:22<00:00,  3.61it/s]\n"
          ]
        },
        {
          "output_type": "stream",
          "name": "stdout",
          "text": [
            "Begin iterating over validation dataset\n"
          ]
        },
        {
          "output_type": "stream",
          "name": "stderr",
          "text": [
            "100%|██████████| 25/25 [00:01<00:00, 13.68it/s]\n"
          ]
        },
        {
          "output_type": "stream",
          "name": "stdout",
          "text": [
            "Loss: 0.4871444034576416\n",
            "Epoch 3 of 15\n",
            "Begin iterating over training dataset\n"
          ]
        },
        {
          "output_type": "stream",
          "name": "stderr",
          "text": [
            "100%|██████████| 80/80 [00:22<00:00,  3.60it/s]\n"
          ]
        },
        {
          "output_type": "stream",
          "name": "stdout",
          "text": [
            "Begin iterating over validation dataset\n"
          ]
        },
        {
          "output_type": "stream",
          "name": "stderr",
          "text": [
            "100%|██████████| 25/25 [00:01<00:00, 13.85it/s]\n"
          ]
        },
        {
          "output_type": "stream",
          "name": "stdout",
          "text": [
            "Loss: 0.3955169630050659\n",
            "Epoch 4 of 15\n",
            "Begin iterating over training dataset\n"
          ]
        },
        {
          "output_type": "stream",
          "name": "stderr",
          "text": [
            "100%|██████████| 80/80 [00:22<00:00,  3.57it/s]\n"
          ]
        },
        {
          "output_type": "stream",
          "name": "stdout",
          "text": [
            "Begin iterating over validation dataset\n"
          ]
        },
        {
          "output_type": "stream",
          "name": "stderr",
          "text": [
            "100%|██████████| 25/25 [00:01<00:00, 13.81it/s]\n"
          ]
        },
        {
          "output_type": "stream",
          "name": "stdout",
          "text": [
            "Loss: 0.3885870385169983\n",
            "Epoch 5 of 15\n",
            "Begin iterating over training dataset\n"
          ]
        },
        {
          "output_type": "stream",
          "name": "stderr",
          "text": [
            "100%|██████████| 80/80 [00:22<00:00,  3.57it/s]\n"
          ]
        },
        {
          "output_type": "stream",
          "name": "stdout",
          "text": [
            "Begin iterating over validation dataset\n"
          ]
        },
        {
          "output_type": "stream",
          "name": "stderr",
          "text": [
            "100%|██████████| 25/25 [00:01<00:00, 13.75it/s]\n"
          ]
        },
        {
          "output_type": "stream",
          "name": "stdout",
          "text": [
            "Loss: 0.38715441346168517\n",
            "Epoch 6 of 15\n",
            "Begin iterating over training dataset\n"
          ]
        },
        {
          "output_type": "stream",
          "name": "stderr",
          "text": [
            "100%|██████████| 80/80 [00:22<00:00,  3.58it/s]\n"
          ]
        },
        {
          "output_type": "stream",
          "name": "stdout",
          "text": [
            "Begin iterating over validation dataset\n"
          ]
        },
        {
          "output_type": "stream",
          "name": "stderr",
          "text": [
            "100%|██████████| 25/25 [00:01<00:00, 13.77it/s]\n"
          ]
        },
        {
          "output_type": "stream",
          "name": "stdout",
          "text": [
            "Loss: 0.37915476262569425\n",
            "Epoch 7 of 15\n",
            "Begin iterating over training dataset\n"
          ]
        },
        {
          "output_type": "stream",
          "name": "stderr",
          "text": [
            "100%|██████████| 80/80 [00:22<00:00,  3.57it/s]\n"
          ]
        },
        {
          "output_type": "stream",
          "name": "stdout",
          "text": [
            "Begin iterating over validation dataset\n"
          ]
        },
        {
          "output_type": "stream",
          "name": "stderr",
          "text": [
            "100%|██████████| 25/25 [00:01<00:00, 13.66it/s]\n"
          ]
        },
        {
          "output_type": "stream",
          "name": "stdout",
          "text": [
            "Loss: 0.3777557736635208\n",
            "Epoch 8 of 15\n",
            "Begin iterating over training dataset\n"
          ]
        },
        {
          "output_type": "stream",
          "name": "stderr",
          "text": [
            "100%|██████████| 80/80 [00:22<00:00,  3.57it/s]\n"
          ]
        },
        {
          "output_type": "stream",
          "name": "stdout",
          "text": [
            "Begin iterating over validation dataset\n"
          ]
        },
        {
          "output_type": "stream",
          "name": "stderr",
          "text": [
            "100%|██████████| 25/25 [00:01<00:00, 13.76it/s]\n"
          ]
        },
        {
          "output_type": "stream",
          "name": "stdout",
          "text": [
            "Loss: 0.38365627110004424\n",
            "Epoch 9 of 15\n",
            "Begin iterating over training dataset\n"
          ]
        },
        {
          "output_type": "stream",
          "name": "stderr",
          "text": [
            "100%|██████████| 80/80 [00:22<00:00,  3.56it/s]\n"
          ]
        },
        {
          "output_type": "stream",
          "name": "stdout",
          "text": [
            "Begin iterating over validation dataset\n"
          ]
        },
        {
          "output_type": "stream",
          "name": "stderr",
          "text": [
            "100%|██████████| 25/25 [00:01<00:00, 13.71it/s]\n"
          ]
        },
        {
          "output_type": "stream",
          "name": "stdout",
          "text": [
            "Loss: 0.3811250197887421\n",
            "Epoch 10 of 15\n",
            "Begin iterating over training dataset\n"
          ]
        },
        {
          "output_type": "stream",
          "name": "stderr",
          "text": [
            "100%|██████████| 80/80 [00:22<00:00,  3.57it/s]\n"
          ]
        },
        {
          "output_type": "stream",
          "name": "stdout",
          "text": [
            "Begin iterating over validation dataset\n"
          ]
        },
        {
          "output_type": "stream",
          "name": "stderr",
          "text": [
            "100%|██████████| 25/25 [00:01<00:00, 13.89it/s]\n"
          ]
        },
        {
          "output_type": "stream",
          "name": "stdout",
          "text": [
            "Loss: 0.3777412694692612\n",
            "Epoch 11 of 15\n",
            "Begin iterating over training dataset\n"
          ]
        },
        {
          "output_type": "stream",
          "name": "stderr",
          "text": [
            "100%|██████████| 80/80 [00:22<00:00,  3.56it/s]\n"
          ]
        },
        {
          "output_type": "stream",
          "name": "stdout",
          "text": [
            "Begin iterating over validation dataset\n"
          ]
        },
        {
          "output_type": "stream",
          "name": "stderr",
          "text": [
            "100%|██████████| 25/25 [00:01<00:00, 13.71it/s]\n"
          ]
        },
        {
          "output_type": "stream",
          "name": "stdout",
          "text": [
            "Loss: 0.38429722905159\n",
            "Epoch 12 of 15\n",
            "Begin iterating over training dataset\n"
          ]
        },
        {
          "output_type": "stream",
          "name": "stderr",
          "text": [
            "100%|██████████| 80/80 [00:22<00:00,  3.56it/s]\n"
          ]
        },
        {
          "output_type": "stream",
          "name": "stdout",
          "text": [
            "Begin iterating over validation dataset\n"
          ]
        },
        {
          "output_type": "stream",
          "name": "stderr",
          "text": [
            "100%|██████████| 25/25 [00:01<00:00, 13.89it/s]\n"
          ]
        },
        {
          "output_type": "stream",
          "name": "stdout",
          "text": [
            "Loss: 0.3842266136407852\n",
            "Epoch 13 of 15\n",
            "Begin iterating over training dataset\n"
          ]
        },
        {
          "output_type": "stream",
          "name": "stderr",
          "text": [
            "100%|██████████| 80/80 [00:22<00:00,  3.58it/s]\n"
          ]
        },
        {
          "output_type": "stream",
          "name": "stdout",
          "text": [
            "Begin iterating over validation dataset\n"
          ]
        },
        {
          "output_type": "stream",
          "name": "stderr",
          "text": [
            "100%|██████████| 25/25 [00:01<00:00, 13.71it/s]\n"
          ]
        },
        {
          "output_type": "stream",
          "name": "stdout",
          "text": [
            "Loss: 0.3814640563726425\n",
            "Epoch 14 of 15\n",
            "Begin iterating over training dataset\n"
          ]
        },
        {
          "output_type": "stream",
          "name": "stderr",
          "text": [
            "100%|██████████| 80/80 [00:22<00:00,  3.57it/s]\n"
          ]
        },
        {
          "output_type": "stream",
          "name": "stdout",
          "text": [
            "Begin iterating over validation dataset\n"
          ]
        },
        {
          "output_type": "stream",
          "name": "stderr",
          "text": [
            "100%|██████████| 25/25 [00:01<00:00, 13.64it/s]\n"
          ]
        },
        {
          "output_type": "stream",
          "name": "stdout",
          "text": [
            "Loss: 0.3777091133594513\n",
            "Epoch 15 of 15\n",
            "Begin iterating over training dataset\n"
          ]
        },
        {
          "output_type": "stream",
          "name": "stderr",
          "text": [
            "100%|██████████| 80/80 [00:22<00:00,  3.57it/s]\n"
          ]
        },
        {
          "output_type": "stream",
          "name": "stdout",
          "text": [
            "Begin iterating over validation dataset\n"
          ]
        },
        {
          "output_type": "stream",
          "name": "stderr",
          "text": [
            "100%|██████████| 25/25 [00:01<00:00, 13.74it/s]\n"
          ]
        },
        {
          "output_type": "stream",
          "name": "stdout",
          "text": [
            "Loss: 0.3853573250770569\n"
          ]
        },
        {
          "output_type": "display_data",
          "data": {
            "text/plain": [
              "<Figure size 432x288 with 1 Axes>"
            ],
            "image/png": "[encoded data removed]"
          },
          "metadata": {
            "needs_background": "light"
          }
        },
        {
          "output_type": "stream",
          "name": "stdout",
          "text": [
            "Epoch 1 of 20\n",
            "Begin iterating over training dataset\n"
          ]
        },
        {
          "output_type": "stream",
          "name": "stderr",
          "text": [
            "100%|██████████| 80/80 [00:22<00:00,  3.55it/s]\n"
          ]
        },
        {
          "output_type": "stream",
          "name": "stdout",
          "text": [
            "Begin iterating over validation dataset\n"
          ]
        },
        {
          "output_type": "stream",
          "name": "stderr",
          "text": [
            "100%|██████████| 25/25 [00:01<00:00, 13.65it/s]\n"
          ]
        },
        {
          "output_type": "stream",
          "name": "stdout",
          "text": [
            "Loss: 0.5480232441425323\n",
            "Epoch 2 of 20\n",
            "Begin iterating over training dataset\n"
          ]
        },
        {
          "output_type": "stream",
          "name": "stderr",
          "text": [
            "100%|██████████| 80/80 [00:22<00:00,  3.56it/s]\n"
          ]
        },
        {
          "output_type": "stream",
          "name": "stdout",
          "text": [
            "Begin iterating over validation dataset\n"
          ]
        },
        {
          "output_type": "stream",
          "name": "stderr",
          "text": [
            "100%|██████████| 25/25 [00:01<00:00, 13.78it/s]\n"
          ]
        },
        {
          "output_type": "stream",
          "name": "stdout",
          "text": [
            "Loss: 0.3779934829473495\n",
            "Epoch 3 of 20\n",
            "Begin iterating over training dataset\n"
          ]
        },
        {
          "output_type": "stream",
          "name": "stderr",
          "text": [
            "100%|██████████| 80/80 [00:22<00:00,  3.56it/s]\n"
          ]
        },
        {
          "output_type": "stream",
          "name": "stdout",
          "text": [
            "Begin iterating over validation dataset\n"
          ]
        },
        {
          "output_type": "stream",
          "name": "stderr",
          "text": [
            "100%|██████████| 25/25 [00:01<00:00, 13.70it/s]\n"
          ]
        },
        {
          "output_type": "stream",
          "name": "stdout",
          "text": [
            "Loss: 0.36553279459476473\n",
            "Epoch 4 of 20\n",
            "Begin iterating over training dataset\n"
          ]
        },
        {
          "output_type": "stream",
          "name": "stderr",
          "text": [
            "100%|██████████| 80/80 [00:22<00:00,  3.56it/s]\n"
          ]
        },
        {
          "output_type": "stream",
          "name": "stdout",
          "text": [
            "Begin iterating over validation dataset\n"
          ]
        },
        {
          "output_type": "stream",
          "name": "stderr",
          "text": [
            "100%|██████████| 25/25 [00:01<00:00, 13.63it/s]\n"
          ]
        },
        {
          "output_type": "stream",
          "name": "stdout",
          "text": [
            "Loss: 0.3648302590847015\n",
            "Epoch 5 of 20\n",
            "Begin iterating over training dataset\n"
          ]
        },
        {
          "output_type": "stream",
          "name": "stderr",
          "text": [
            "100%|██████████| 80/80 [00:22<00:00,  3.57it/s]\n"
          ]
        },
        {
          "output_type": "stream",
          "name": "stdout",
          "text": [
            "Begin iterating over validation dataset\n"
          ]
        },
        {
          "output_type": "stream",
          "name": "stderr",
          "text": [
            "100%|██████████| 25/25 [00:01<00:00, 13.88it/s]\n"
          ]
        },
        {
          "output_type": "stream",
          "name": "stdout",
          "text": [
            "Loss: 0.36661789417266843\n",
            "Epoch 6 of 20\n",
            "Begin iterating over training dataset\n"
          ]
        },
        {
          "output_type": "stream",
          "name": "stderr",
          "text": [
            "100%|██████████| 80/80 [00:22<00:00,  3.56it/s]\n"
          ]
        },
        {
          "output_type": "stream",
          "name": "stdout",
          "text": [
            "Begin iterating over validation dataset\n"
          ]
        },
        {
          "output_type": "stream",
          "name": "stderr",
          "text": [
            "100%|██████████| 25/25 [00:01<00:00, 13.79it/s]\n"
          ]
        },
        {
          "output_type": "stream",
          "name": "stdout",
          "text": [
            "Loss: 0.3661115056276321\n",
            "Epoch 7 of 20\n",
            "Begin iterating over training dataset\n"
          ]
        },
        {
          "output_type": "stream",
          "name": "stderr",
          "text": [
            "100%|██████████| 80/80 [00:22<00:00,  3.57it/s]\n"
          ]
        },
        {
          "output_type": "stream",
          "name": "stdout",
          "text": [
            "Begin iterating over validation dataset\n"
          ]
        },
        {
          "output_type": "stream",
          "name": "stderr",
          "text": [
            "100%|██████████| 25/25 [00:01<00:00, 13.73it/s]\n"
          ]
        },
        {
          "output_type": "stream",
          "name": "stdout",
          "text": [
            "Loss: 0.36794059216976166\n",
            "Epoch 8 of 20\n",
            "Begin iterating over training dataset\n"
          ]
        },
        {
          "output_type": "stream",
          "name": "stderr",
          "text": [
            "100%|██████████| 80/80 [00:22<00:00,  3.58it/s]\n"
          ]
        },
        {
          "output_type": "stream",
          "name": "stdout",
          "text": [
            "Begin iterating over validation dataset\n"
          ]
        },
        {
          "output_type": "stream",
          "name": "stderr",
          "text": [
            "100%|██████████| 25/25 [00:01<00:00, 13.80it/s]\n"
          ]
        },
        {
          "output_type": "stream",
          "name": "stdout",
          "text": [
            "Loss: 0.3641756063699722\n",
            "Epoch 9 of 20\n",
            "Begin iterating over training dataset\n"
          ]
        },
        {
          "output_type": "stream",
          "name": "stderr",
          "text": [
            "100%|██████████| 80/80 [00:22<00:00,  3.58it/s]\n"
          ]
        },
        {
          "output_type": "stream",
          "name": "stdout",
          "text": [
            "Begin iterating over validation dataset\n"
          ]
        },
        {
          "output_type": "stream",
          "name": "stderr",
          "text": [
            "100%|██████████| 25/25 [00:01<00:00, 13.96it/s]\n"
          ]
        },
        {
          "output_type": "stream",
          "name": "stdout",
          "text": [
            "Loss: 0.36776815533638\n",
            "Epoch 10 of 20\n",
            "Begin iterating over training dataset\n"
          ]
        },
        {
          "output_type": "stream",
          "name": "stderr",
          "text": [
            "100%|██████████| 80/80 [00:22<00:00,  3.58it/s]\n"
          ]
        },
        {
          "output_type": "stream",
          "name": "stdout",
          "text": [
            "Begin iterating over validation dataset\n"
          ]
        },
        {
          "output_type": "stream",
          "name": "stderr",
          "text": [
            "100%|██████████| 25/25 [00:01<00:00, 13.99it/s]\n"
          ]
        },
        {
          "output_type": "stream",
          "name": "stdout",
          "text": [
            "Loss: 0.36444775938987733\n",
            "Epoch 11 of 20\n",
            "Begin iterating over training dataset\n"
          ]
        },
        {
          "output_type": "stream",
          "name": "stderr",
          "text": [
            "100%|██████████| 80/80 [00:22<00:00,  3.59it/s]\n"
          ]
        },
        {
          "output_type": "stream",
          "name": "stdout",
          "text": [
            "Begin iterating over validation dataset\n"
          ]
        },
        {
          "output_type": "stream",
          "name": "stderr",
          "text": [
            "100%|██████████| 25/25 [00:01<00:00, 13.85it/s]\n"
          ]
        },
        {
          "output_type": "stream",
          "name": "stdout",
          "text": [
            "Loss: 0.365025572180748\n",
            "Epoch 12 of 20\n",
            "Begin iterating over training dataset\n"
          ]
        },
        {
          "output_type": "stream",
          "name": "stderr",
          "text": [
            "100%|██████████| 80/80 [00:22<00:00,  3.58it/s]\n"
          ]
        },
        {
          "output_type": "stream",
          "name": "stdout",
          "text": [
            "Begin iterating over validation dataset\n"
          ]
        },
        {
          "output_type": "stream",
          "name": "stderr",
          "text": [
            "100%|██████████| 25/25 [00:01<00:00, 13.74it/s]\n"
          ]
        },
        {
          "output_type": "stream",
          "name": "stdout",
          "text": [
            "Loss: 0.3671730786561966\n",
            "Epoch 13 of 20\n",
            "Begin iterating over training dataset\n"
          ]
        },
        {
          "output_type": "stream",
          "name": "stderr",
          "text": [
            "100%|██████████| 80/80 [00:22<00:00,  3.57it/s]\n"
          ]
        },
        {
          "output_type": "stream",
          "name": "stdout",
          "text": [
            "Begin iterating over validation dataset\n"
          ]
        },
        {
          "output_type": "stream",
          "name": "stderr",
          "text": [
            "100%|██████████| 25/25 [00:01<00:00, 13.82it/s]\n"
          ]
        },
        {
          "output_type": "stream",
          "name": "stdout",
          "text": [
            "Loss: 0.36544307351112365\n",
            "Epoch 14 of 20\n",
            "Begin iterating over training dataset\n"
          ]
        },
        {
          "output_type": "stream",
          "name": "stderr",
          "text": [
            "100%|██████████| 80/80 [00:22<00:00,  3.57it/s]\n"
          ]
        },
        {
          "output_type": "stream",
          "name": "stdout",
          "text": [
            "Begin iterating over validation dataset\n"
          ]
        },
        {
          "output_type": "stream",
          "name": "stderr",
          "text": [
            "100%|██████████| 25/25 [00:01<00:00, 13.61it/s]\n"
          ]
        },
        {
          "output_type": "stream",
          "name": "stdout",
          "text": [
            "Loss: 0.36469431340694425\n",
            "Epoch 15 of 20\n",
            "Begin iterating over training dataset\n"
          ]
        },
        {
          "output_type": "stream",
          "name": "stderr",
          "text": [
            "100%|██████████| 80/80 [00:22<00:00,  3.56it/s]\n"
          ]
        },
        {
          "output_type": "stream",
          "name": "stdout",
          "text": [
            "Begin iterating over validation dataset\n"
          ]
        },
        {
          "output_type": "stream",
          "name": "stderr",
          "text": [
            "100%|██████████| 25/25 [00:01<00:00, 13.60it/s]\n"
          ]
        },
        {
          "output_type": "stream",
          "name": "stdout",
          "text": [
            "Loss: 0.363255917429924\n",
            "Epoch 16 of 20\n",
            "Begin iterating over training dataset\n"
          ]
        },
        {
          "output_type": "stream",
          "name": "stderr",
          "text": [
            "100%|██████████| 80/80 [00:22<00:00,  3.56it/s]\n"
          ]
        },
        {
          "output_type": "stream",
          "name": "stdout",
          "text": [
            "Begin iterating over validation dataset\n"
          ]
        },
        {
          "output_type": "stream",
          "name": "stderr",
          "text": [
            "100%|██████████| 25/25 [00:01<00:00, 13.82it/s]\n"
          ]
        },
        {
          "output_type": "stream",
          "name": "stdout",
          "text": [
            "Loss: 0.3624549567699432\n",
            "Epoch 17 of 20\n",
            "Begin iterating over training dataset\n"
          ]
        },
        {
          "output_type": "stream",
          "name": "stderr",
          "text": [
            "100%|██████████| 80/80 [00:22<00:00,  3.58it/s]\n"
          ]
        },
        {
          "output_type": "stream",
          "name": "stdout",
          "text": [
            "Begin iterating over validation dataset\n"
          ]
        },
        {
          "output_type": "stream",
          "name": "stderr",
          "text": [
            "100%|██████████| 25/25 [00:01<00:00, 13.77it/s]\n"
          ]
        },
        {
          "output_type": "stream",
          "name": "stdout",
          "text": [
            "Loss: 0.3631679093837738\n",
            "Epoch 18 of 20\n",
            "Begin iterating over training dataset\n"
          ]
        },
        {
          "output_type": "stream",
          "name": "stderr",
          "text": [
            "100%|██████████| 80/80 [00:22<00:00,  3.57it/s]\n"
          ]
        },
        {
          "output_type": "stream",
          "name": "stdout",
          "text": [
            "Begin iterating over validation dataset\n"
          ]
        },
        {
          "output_type": "stream",
          "name": "stderr",
          "text": [
            "100%|██████████| 25/25 [00:01<00:00, 13.01it/s]\n"
          ]
        },
        {
          "output_type": "stream",
          "name": "stdout",
          "text": [
            "Loss: 0.37083952605724335\n",
            "Epoch 19 of 20\n",
            "Begin iterating over training dataset\n"
          ]
        },
        {
          "output_type": "stream",
          "name": "stderr",
          "text": [
            "100%|██████████| 80/80 [00:22<00:00,  3.56it/s]\n"
          ]
        },
        {
          "output_type": "stream",
          "name": "stdout",
          "text": [
            "Begin iterating over validation dataset\n"
          ]
        },
        {
          "output_type": "stream",
          "name": "stderr",
          "text": [
            "100%|██████████| 25/25 [00:01<00:00, 13.67it/s]\n"
          ]
        },
        {
          "output_type": "stream",
          "name": "stdout",
          "text": [
            "Loss: 0.36455770790576936\n",
            "Epoch 20 of 20\n",
            "Begin iterating over training dataset\n"
          ]
        },
        {
          "output_type": "stream",
          "name": "stderr",
          "text": [
            "100%|██████████| 80/80 [00:22<00:00,  3.57it/s]\n"
          ]
        },
        {
          "output_type": "stream",
          "name": "stdout",
          "text": [
            "Begin iterating over validation dataset\n"
          ]
        },
        {
          "output_type": "stream",
          "name": "stderr",
          "text": [
            "100%|██████████| 25/25 [00:01<00:00, 13.84it/s]\n"
          ]
        },
        {
          "output_type": "stream",
          "name": "stdout",
          "text": [
            "Loss: 0.3635878998041153\n"
          ]
        },
        {
          "output_type": "display_data",
          "data": {
            "text/plain": [
              "<Figure size 432x288 with 1 Axes>"
            ],
            "image/png": "[encoded data removed]"
          },
          "metadata": {
            "needs_background": "light"
          }
        }
      ]
    },
    {
      "cell_type": "code",
      "source": [
        "# Видно, что learning_rate 0.001 и 0.003 оказались слишком маленькими.\n",
        "#При learning_rate 0.009 лосс снижается быстрее (ожидаемо) и после 2 эпохи уже не сильно падает (первым двум для этого нужно 5-6 эпох).\n",
        "# Не заметил чтобы регуляризация и изменение шагша скорости обучения сильно повлияли.\n",
        "# Экспериментиовать можно очень долго, но бесплатный colab имеет ограничения.\n",
        "# Не нашёл в документации к detecto описания, как менять оптимизатор. Возможно такой опции там нет.  Но я бы ещё попробовал другие оптимизаторы ради интереса.\n"
      ],
      "metadata": {
        "id": "6paO_tIYKPUu"
      },
      "execution_count": null,
      "outputs": []
    }
  ],
  "metadata": {
    "colab": {
      "collapsed_sections": [],
      "provenance": []
    },
    "kernelspec": {
      "display_name": "Python 3",
      "language": "python",
      "name": "python3"
    },
    "language_info": {
      "codemirror_mode": {
        "name": "ipython",
        "version": 3
      },
      "file_extension": ".py",
      "mimetype": "text/x-python",
      "name": "python",
      "nbconvert_exporter": "python",
      "pygments_lexer": "ipython3",
      "version": "3.8.5"
    },
    "widgets": {
      "application/vnd.jupyter.widget-state+json": {
        "f59eb449843e48939792a3568ae2e4eb": {
          "model_module": "@jupyter-widgets/controls",
          "model_name": "HBoxModel",
          "model_module_version": "1.5.0",
          "state": {
            "_dom_classes": [],
            "_model_module": "@jupyter-widgets/controls",
            "_model_module_version": "1.5.0",
            "_model_name": "HBoxModel",
            "_view_count": null,
            "_view_module": "@jupyter-widgets/controls",
            "_view_module_version": "1.5.0",
            "_view_name": "HBoxView",
            "box_style": "",
            "children": [
              "IPY_MODEL_243aee6ce5cc45cea935ef1d1bb43373",
              "IPY_MODEL_137348723bee481d8e79714a02674338",
              "IPY_MODEL_95bc71d6b98d47a2aba7711fbfe31760"
            ],
            "layout": "IPY_MODEL_3bc16d67cce64761aa27ba81e593ac4b"
          }
        },
        "243aee6ce5cc45cea935ef1d1bb43373": {
          "model_module": "@jupyter-widgets/controls",
          "model_name": "HTMLModel",
          "model_module_version": "1.5.0",
          "state": {
            "_dom_classes": [],
            "_model_module": "@jupyter-widgets/controls",
            "_model_module_version": "1.5.0",
            "_model_name": "HTMLModel",
            "_view_count": null,
            "_view_module": "@jupyter-widgets/controls",
            "_view_module_version": "1.5.0",
            "_view_name": "HTMLView",
            "description": "",
            "description_tooltip": null,
            "layout": "IPY_MODEL_e100702508db4c1da380cb963331c47c",
            "placeholder": "​",
            "style": "IPY_MODEL_10f989193854463ab20787566803c13b",
            "value": "100%"
          }
        },
        "137348723bee481d8e79714a02674338": {
          "model_module": "@jupyter-widgets/controls",
          "model_name": "FloatProgressModel",
          "model_module_version": "1.5.0",
          "state": {
            "_dom_classes": [],
            "_model_module": "@jupyter-widgets/controls",
            "_model_module_version": "1.5.0",
            "_model_name": "FloatProgressModel",
            "_view_count": null,
            "_view_module": "@jupyter-widgets/controls",
            "_view_module_version": "1.5.0",
            "_view_name": "ProgressView",
            "bar_style": "success",
            "description": "",
            "description_tooltip": null,
            "layout": "IPY_MODEL_aa065fa283934dfda8fc78427a0b492e",
            "max": 167502836,
            "min": 0,
            "orientation": "horizontal",
            "style": "IPY_MODEL_3c0b88f4bbab4ea0ba0883d1722d507c",
            "value": 167502836
          }
        },
        "95bc71d6b98d47a2aba7711fbfe31760": {
          "model_module": "@jupyter-widgets/controls",
          "model_name": "HTMLModel",
          "model_module_version": "1.5.0",
          "state": {
            "_dom_classes": [],
            "_model_module": "@jupyter-widgets/controls",
            "_model_module_version": "1.5.0",
            "_model_name": "HTMLModel",
            "_view_count": null,
            "_view_module": "@jupyter-widgets/controls",
            "_view_module_version": "1.5.0",
            "_view_name": "HTMLView",
            "description": "",
            "description_tooltip": null,
            "layout": "IPY_MODEL_733c12a6daab49f6bdac4463ba28a864",
            "placeholder": "​",
            "style": "IPY_MODEL_d2bd5e0578f14fa29a2af48f7b6b5c63",
            "value": " 160M/160M [00:01&lt;00:00, 173MB/s]"
          }
        },
        "3bc16d67cce64761aa27ba81e593ac4b": {
          "model_module": "@jupyter-widgets/base",
          "model_name": "LayoutModel",
          "model_module_version": "1.2.0",
          "state": {
            "_model_module": "@jupyter-widgets/base",
            "_model_module_version": "1.2.0",
            "_model_name": "LayoutModel",
            "_view_count": null,
            "_view_module": "@jupyter-widgets/base",
            "_view_module_version": "1.2.0",
            "_view_name": "LayoutView",
            "align_content": null,
            "align_items": null,
            "align_self": null,
            "border": null,
            "bottom": null,
            "display": null,
            "flex": null,
            "flex_flow": null,
            "grid_area": null,
            "grid_auto_columns": null,
            "grid_auto_flow": null,
            "grid_auto_rows": null,
            "grid_column": null,
            "grid_gap": null,
            "grid_row": null,
            "grid_template_areas": null,
            "grid_template_columns": null,
            "grid_template_rows": null,
            "height": null,
            "justify_content": null,
            "justify_items": null,
            "left": null,
            "margin": null,
            "max_height": null,
            "max_width": null,
            "min_height": null,
            "min_width": null,
            "object_fit": null,
            "object_position": null,
            "order": null,
            "overflow": null,
            "overflow_x": null,
            "overflow_y": null,
            "padding": null,
            "right": null,
            "top": null,
            "visibility": null,
            "width": null
          }
        },
        "e100702508db4c1da380cb963331c47c": {
          "model_module": "@jupyter-widgets/base",
          "model_name": "LayoutModel",
          "model_module_version": "1.2.0",
          "state": {
            "_model_module": "@jupyter-widgets/base",
            "_model_module_version": "1.2.0",
            "_model_name": "LayoutModel",
            "_view_count": null,
            "_view_module": "@jupyter-widgets/base",
            "_view_module_version": "1.2.0",
            "_view_name": "LayoutView",
            "align_content": null,
            "align_items": null,
            "align_self": null,
            "border": null,
            "bottom": null,
            "display": null,
            "flex": null,
            "flex_flow": null,
            "grid_area": null,
            "grid_auto_columns": null,
            "grid_auto_flow": null,
            "grid_auto_rows": null,
            "grid_column": null,
            "grid_gap": null,
            "grid_row": null,
            "grid_template_areas": null,
            "grid_template_columns": null,
            "grid_template_rows": null,
            "height": null,
            "justify_content": null,
            "justify_items": null,
            "left": null,
            "margin": null,
            "max_height": null,
            "max_width": null,
            "min_height": null,
            "min_width": null,
            "object_fit": null,
            "object_position": null,
            "order": null,
            "overflow": null,
            "overflow_x": null,
            "overflow_y": null,
            "padding": null,
            "right": null,
            "top": null,
            "visibility": null,
            "width": null
          }
        },
        "10f989193854463ab20787566803c13b": {
          "model_module": "@jupyter-widgets/controls",
          "model_name": "DescriptionStyleModel",
          "model_module_version": "1.5.0",
          "state": {
            "_model_module": "@jupyter-widgets/controls",
            "_model_module_version": "1.5.0",
            "_model_name": "DescriptionStyleModel",
            "_view_count": null,
            "_view_module": "@jupyter-widgets/base",
            "_view_module_version": "1.2.0",
            "_view_name": "StyleView",
            "description_width": ""
          }
        },
        "aa065fa283934dfda8fc78427a0b492e": {
          "model_module": "@jupyter-widgets/base",
          "model_name": "LayoutModel",
          "model_module_version": "1.2.0",
          "state": {
            "_model_module": "@jupyter-widgets/base",
            "_model_module_version": "1.2.0",
            "_model_name": "LayoutModel",
            "_view_count": null,
            "_view_module": "@jupyter-widgets/base",
            "_view_module_version": "1.2.0",
            "_view_name": "LayoutView",
            "align_content": null,
            "align_items": null,
            "align_self": null,
            "border": null,
            "bottom": null,
            "display": null,
            "flex": null,
            "flex_flow": null,
            "grid_area": null,
            "grid_auto_columns": null,
            "grid_auto_flow": null,
            "grid_auto_rows": null,
            "grid_column": null,
            "grid_gap": null,
            "grid_row": null,
            "grid_template_areas": null,
            "grid_template_columns": null,
            "grid_template_rows": null,
            "height": null,
            "justify_content": null,
            "justify_items": null,
            "left": null,
            "margin": null,
            "max_height": null,
            "max_width": null,
            "min_height": null,
            "min_width": null,
            "object_fit": null,
            "object_position": null,
            "order": null,
            "overflow": null,
            "overflow_x": null,
            "overflow_y": null,
            "padding": null,
            "right": null,
            "top": null,
            "visibility": null,
            "width": null
          }
        },
        "3c0b88f4bbab4ea0ba0883d1722d507c": {
          "model_module": "@jupyter-widgets/controls",
          "model_name": "ProgressStyleModel",
          "model_module_version": "1.5.0",
          "state": {
            "_model_module": "@jupyter-widgets/controls",
            "_model_module_version": "1.5.0",
            "_model_name": "ProgressStyleModel",
            "_view_count": null,
            "_view_module": "@jupyter-widgets/base",
            "_view_module_version": "1.2.0",
            "_view_name": "StyleView",
            "bar_color": null,
            "description_width": ""
          }
        },
        "733c12a6daab49f6bdac4463ba28a864": {
          "model_module": "@jupyter-widgets/base",
          "model_name": "LayoutModel",
          "model_module_version": "1.2.0",
          "state": {
            "_model_module": "@jupyter-widgets/base",
            "_model_module_version": "1.2.0",
            "_model_name": "LayoutModel",
            "_view_count": null,
            "_view_module": "@jupyter-widgets/base",
            "_view_module_version": "1.2.0",
            "_view_name": "LayoutView",
            "align_content": null,
            "align_items": null,
            "align_self": null,
            "border": null,
            "bottom": null,
            "display": null,
            "flex": null,
            "flex_flow": null,
            "grid_area": null,
            "grid_auto_columns": null,
            "grid_auto_flow": null,
            "grid_auto_rows": null,
            "grid_column": null,
            "grid_gap": null,
            "grid_row": null,
            "grid_template_areas": null,
            "grid_template_columns": null,
            "grid_template_rows": null,
            "height": null,
            "justify_content": null,
            "justify_items": null,
            "left": null,
            "margin": null,
            "max_height": null,
            "max_width": null,
            "min_height": null,
            "min_width": null,
            "object_fit": null,
            "object_position": null,
            "order": null,
            "overflow": null,
            "overflow_x": null,
            "overflow_y": null,
            "padding": null,
            "right": null,
            "top": null,
            "visibility": null,
            "width": null
          }
        },
        "d2bd5e0578f14fa29a2af48f7b6b5c63": {
          "model_module": "@jupyter-widgets/controls",
          "model_name": "DescriptionStyleModel",
          "model_module_version": "1.5.0",
          "state": {
            "_model_module": "@jupyter-widgets/controls",
            "_model_module_version": "1.5.0",
            "_model_name": "DescriptionStyleModel",
            "_view_count": null,
            "_view_module": "@jupyter-widgets/base",
            "_view_module_version": "1.2.0",
            "_view_name": "StyleView",
            "description_width": ""
          }
        }
      }
    }
  },
  "nbformat": 4,
  "nbformat_minor": 0
}