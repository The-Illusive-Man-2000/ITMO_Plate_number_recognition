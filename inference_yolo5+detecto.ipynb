{
  "cells": [
    {
      "cell_type": "code",
      "execution_count": 1,
      "id": "f6445ad5",
      "metadata": {
        "id": "f6445ad5",
        "colab": {
          "base_uri": "https://localhost:8080/"
        },
        "outputId": "29eb8f31-75dd-433d-f590-9117b6ca4be4"
      },
      "outputs": [
        {
          "output_type": "stream",
          "name": "stdout",
          "text": [
            "Looking in indexes: https://pypi.org/simple, https://us-python.pkg.dev/colab-wheels/public/simple/\n",
            "Collecting detecto\n",
            "  Downloading detecto-1.2.2-py3-none-any.whl (25 kB)\n",
            "Requirement already satisfied: pandas in /usr/local/lib/python3.7/dist-packages (from detecto) (1.3.5)\n",
            "Requirement already satisfied: tqdm in /usr/local/lib/python3.7/dist-packages (from detecto) (4.64.1)\n",
            "Requirement already satisfied: torch in /usr/local/lib/python3.7/dist-packages (from detecto) (1.12.1+cu113)\n",
            "Requirement already satisfied: opencv-python in /usr/local/lib/python3.7/dist-packages (from detecto) (4.6.0.66)\n",
            "Requirement already satisfied: torchvision in /usr/local/lib/python3.7/dist-packages (from detecto) (0.13.1+cu113)\n",
            "Requirement already satisfied: matplotlib in /usr/local/lib/python3.7/dist-packages (from detecto) (3.2.2)\n",
            "Requirement already satisfied: kiwisolver>=1.0.1 in /usr/local/lib/python3.7/dist-packages (from matplotlib->detecto) (1.4.4)\n",
            "Requirement already satisfied: python-dateutil>=2.1 in /usr/local/lib/python3.7/dist-packages (from matplotlib->detecto) (2.8.2)\n",
            "Requirement already satisfied: cycler>=0.10 in /usr/local/lib/python3.7/dist-packages (from matplotlib->detecto) (0.11.0)\n",
            "Requirement already satisfied: pyparsing!=2.0.4,!=2.1.2,!=2.1.6,>=2.0.1 in /usr/local/lib/python3.7/dist-packages (from matplotlib->detecto) (3.0.9)\n",
            "Requirement already satisfied: numpy>=1.11 in /usr/local/lib/python3.7/dist-packages (from matplotlib->detecto) (1.21.6)\n",
            "Requirement already satisfied: typing-extensions in /usr/local/lib/python3.7/dist-packages (from kiwisolver>=1.0.1->matplotlib->detecto) (4.1.1)\n",
            "Requirement already satisfied: six>=1.5 in /usr/local/lib/python3.7/dist-packages (from python-dateutil>=2.1->matplotlib->detecto) (1.15.0)\n",
            "Requirement already satisfied: pytz>=2017.3 in /usr/local/lib/python3.7/dist-packages (from pandas->detecto) (2022.2.1)\n",
            "Requirement already satisfied: pillow!=8.3.*,>=5.3.0 in /usr/local/lib/python3.7/dist-packages (from torchvision->detecto) (7.1.2)\n",
            "Requirement already satisfied: requests in /usr/local/lib/python3.7/dist-packages (from torchvision->detecto) (2.23.0)\n",
            "Requirement already satisfied: certifi>=2017.4.17 in /usr/local/lib/python3.7/dist-packages (from requests->torchvision->detecto) (2022.6.15)\n",
            "Requirement already satisfied: urllib3!=1.25.0,!=1.25.1,<1.26,>=1.21.1 in /usr/local/lib/python3.7/dist-packages (from requests->torchvision->detecto) (1.24.3)\n",
            "Requirement already satisfied: chardet<4,>=3.0.2 in /usr/local/lib/python3.7/dist-packages (from requests->torchvision->detecto) (3.0.4)\n",
            "Requirement already satisfied: idna<3,>=2.5 in /usr/local/lib/python3.7/dist-packages (from requests->torchvision->detecto) (2.10)\n",
            "Installing collected packages: detecto\n",
            "Successfully installed detecto-1.2.2\n",
            "Looking in indexes: https://pypi.org/simple, https://us-python.pkg.dev/colab-wheels/public/simple/\n",
            "Collecting session-info\n",
            "  Downloading session_info-1.0.0.tar.gz (24 kB)\n",
            "Collecting stdlib_list\n",
            "  Downloading stdlib_list-0.8.0-py3-none-any.whl (63 kB)\n",
            "\u001b[K     |████████████████████████████████| 63 kB 2.0 MB/s \n",
            "\u001b[?25hBuilding wheels for collected packages: session-info\n",
            "  Building wheel for session-info (setup.py) ... \u001b[?25l\u001b[?25hdone\n",
            "  Created wheel for session-info: filename=session_info-1.0.0-py3-none-any.whl size=8048 sha256=5d951667add35cccaa6abaa4dc2b190bc3a432aed4b60acbbcd97b26ba374536\n",
            "  Stored in directory: /root/.cache/pip/wheels/bd/ad/14/6a42359351a18337a8683854cfbba99dd782271f2d1767f87f\n",
            "Successfully built session-info\n",
            "Installing collected packages: stdlib-list, session-info\n",
            "Successfully installed session-info-1.0.0 stdlib-list-0.8.0\n"
          ]
        }
      ],
      "source": [
        "# Установка библиотеки detecto и библиотеки для сбора списка версий установленных модулей.\n",
        "!pip install detecto\n",
        "!pip install session-info"
      ]
    },
    {
      "cell_type": "code",
      "source": [
        "# Загрузка модулей\n",
        "import numpy as np\n",
        "import matplotlib.pyplot as plt\n",
        "import torch\n",
        "from detecto import core, utils, visualize\n",
        "from detecto.visualize import show_labeled_image, plot_prediction_grid\n",
        "import time\n",
        "import cv2\n",
        "import imutils\n",
        "from cv2 import VideoWriter_fourcc\n",
        "from imutils.video import VideoStream\n",
        "from imutils.video import FPS\n",
        "from IPython.display import clear_output\n",
        "from google.colab.patches import cv2_imshow\n",
        "from pathlib import Path\n",
        "import session_info"
      ],
      "metadata": {
        "id": "PxcO-oETUII-"
      },
      "id": "PxcO-oETUII-",
      "execution_count": 2,
      "outputs": []
    },
    {
      "cell_type": "code",
      "source": [
        "# Выведем версии используемых модулей. Версия detecto отобразилась при установке detecto==1.2.2 \n",
        "session_info.show()"
      ],
      "metadata": {
        "colab": {
          "base_uri": "https://localhost:8080/",
          "height": 399
        },
        "id": "Q4cRpsWHCDzp",
        "outputId": "2b852366-9eed-4e15-8300-b248aeb503f8"
      },
      "id": "Q4cRpsWHCDzp",
      "execution_count": 3,
      "outputs": [
        {
          "output_type": "execute_result",
          "data": {
            "text/plain": [
              "<IPython.core.display.HTML object>"
            ],
            "text/html": [
              "<details>\n",
              "<summary>Click to view session information</summary>\n",
              "<pre>\n",
              "-----\n",
              "cv2                 4.6.0\n",
              "detecto             NA\n",
              "google              NA\n",
              "imutils             0.5.4\n",
              "matplotlib          3.2.2\n",
              "numpy               1.21.6\n",
              "session_info        1.0.0\n",
              "torch               1.12.1+cu113\n",
              "-----\n",
              "</pre>\n",
              "<details>\n",
              "<summary>Click to view modules imported as dependencies</summary>\n",
              "<pre>\n",
              "PIL                         7.1.2\n",
              "astor                       0.8.1\n",
              "astunparse                  1.6.3\n",
              "backcall                    0.2.0\n",
              "certifi                     2022.06.15\n",
              "cffi                        1.15.1\n",
              "chardet                     3.0.4\n",
              "cloudpickle                 1.5.0\n",
              "cycler                      0.10.0\n",
              "cython_runtime              NA\n",
              "dateutil                    2.8.2\n",
              "debugpy                     1.0.0\n",
              "decorator                   4.4.2\n",
              "defusedxml                  0.7.1\n",
              "dill                        0.3.5.1\n",
              "httplib2                    0.17.4\n",
              "idna                        2.10\n",
              "ipykernel                   5.3.4\n",
              "ipython_genutils            0.2.0\n",
              "ipywidgets                  7.7.1\n",
              "kiwisolver                  1.4.4\n",
              "mpl_toolkits                NA\n",
              "numexpr                     2.8.3\n",
              "packaging                   21.3\n",
              "pandas                      1.3.5\n",
              "pexpect                     4.8.0\n",
              "pickleshare                 0.7.5\n",
              "pkg_resources               NA\n",
              "portpicker                  NA\n",
              "prompt_toolkit              2.0.10\n",
              "psutil                      5.4.8\n",
              "ptyprocess                  0.7.0\n",
              "pyarrow                     6.0.1\n",
              "pydev_ipython               NA\n",
              "pydevconsole                NA\n",
              "pydevd                      2.0.0\n",
              "pydevd_concurrency_analyser NA\n",
              "pydevd_file_utils           NA\n",
              "pydevd_plugins              NA\n",
              "pydevd_tracing              NA\n",
              "pygments                    2.6.1\n",
              "pyparsing                   3.0.9\n",
              "pytz                        2022.2.1\n",
              "requests                    2.23.0\n",
              "sitecustomize               NA\n",
              "six                         1.15.0\n",
              "socks                       1.7.1\n",
              "sphinxcontrib               NA\n",
              "storemagic                  NA\n",
              "torchvision                 0.13.1+cu113\n",
              "tornado                     5.1.1\n",
              "tqdm                        4.64.1\n",
              "traitlets                   5.1.1\n",
              "typing_extensions           NA\n",
              "urllib3                     1.24.3\n",
              "wcwidth                     0.2.5\n",
              "zmq                         23.2.1\n",
              "</pre>\n",
              "</details> <!-- seems like this ends pre, so might as well be explicit -->\n",
              "<pre>\n",
              "-----\n",
              "IPython             7.9.0\n",
              "jupyter_client      6.1.12\n",
              "jupyter_core        4.11.1\n",
              "notebook            5.3.1\n",
              "-----\n",
              "Python 3.7.14 (default, Sep  8 2022, 00:06:44) [GCC 7.5.0]\n",
              "Linux-5.10.133+-x86_64-with-Ubuntu-18.04-bionic\n",
              "-----\n",
              "Session information updated at 2022-10-04 17:36\n",
              "</pre>\n",
              "</details>"
            ]
          },
          "metadata": {},
          "execution_count": 3
        }
      ]
    },
    {
      "cell_type": "code",
      "source": [
        "# Подключение гугл диска\n",
        "from google.colab import drive\n",
        "drive.mount('/content/drive')"
      ],
      "metadata": {
        "colab": {
          "base_uri": "https://localhost:8080/"
        },
        "id": "5q_PDi3ntGG1",
        "outputId": "e94b25f7-fef1-4464-87fd-02e567f3c6e9"
      },
      "id": "5q_PDi3ntGG1",
      "execution_count": 4,
      "outputs": [
        {
          "output_type": "stream",
          "name": "stdout",
          "text": [
            "Mounted at /content/drive\n"
          ]
        }
      ]
    },
    {
      "cell_type": "code",
      "source": [
        "%cd /content/drive/MyDrive\n",
        "root_dir = Path().cwd()\n",
        "print(root_dir)"
      ],
      "metadata": {
        "colab": {
          "base_uri": "https://localhost:8080/"
        },
        "id": "K2cuUPJ6UXyA",
        "outputId": "1c7949a7-47f5-40dc-f79c-6abe54c59a1c"
      },
      "id": "K2cuUPJ6UXyA",
      "execution_count": 5,
      "outputs": [
        {
          "output_type": "stream",
          "name": "stdout",
          "text": [
            "/content/drive/MyDrive\n",
            "/content/drive/MyDrive\n"
          ]
        }
      ]
    },
    {
      "cell_type": "code",
      "execution_count": 7,
      "id": "d73ee5a9",
      "metadata": {
        "colab": {
          "base_uri": "https://localhost:8080/",
          "height": 252,
          "referenced_widgets": [
            "44a34247647347fabecbccf1049840c2",
            "7ec196291bf949d094ec94ad72433eab",
            "3436ef427cf3491f8d4a935630122d71",
            "3a21c28b4a704fa6a2a0f0b10797bfe1",
            "d8cd279529954f8b8a5a2b3fce677f84",
            "e68224f66cf643cabde42d5f75aaa8b5",
            "d4b4e311736f41139136800b2ded710d",
            "0890989f105c45bba8332e75de6cb615",
            "e8ac0dae76514c2a9f3c3d7e9bb3f7d8",
            "0dfe4176f44e4fd382f920bb22397a9e",
            "2391381d6912428a863312ae47a62f3c"
          ]
        },
        "id": "d73ee5a9",
        "outputId": "0171eaa6-62d9-419d-ed8c-a7a5710406f3"
      },
      "outputs": [
        {
          "output_type": "stream",
          "name": "stderr",
          "text": [
            "YOLOv5 🚀 2022-9-22 Python-3.7.14 torch-1.12.1+cu113 CUDA:0 (Tesla T4, 15110MiB)\n",
            "\n",
            "Fusing layers... \n",
            "Model summary: 276 layers, 35248920 parameters, 0 gradients\n",
            "Adding AutoShape... \n",
            "/usr/local/lib/python3.7/dist-packages/torchvision/models/_utils.py:209: UserWarning: The parameter 'pretrained' is deprecated since 0.13 and will be removed in 0.15, please use 'weights' instead.\n",
            "  f\"The parameter '{pretrained_param}' is deprecated since 0.13 and will be removed in 0.15, \"\n",
            "/usr/local/lib/python3.7/dist-packages/torchvision/models/_utils.py:223: UserWarning: Arguments other than a weight enum or `None` for 'weights' are deprecated since 0.13 and will be removed in 0.15. The current behavior is equivalent to passing `weights=FasterRCNN_ResNet50_FPN_Weights.COCO_V1`. You can also use `weights=FasterRCNN_ResNet50_FPN_Weights.DEFAULT` to get the most up-to-date weights.\n",
            "  warnings.warn(msg)\n",
            "Downloading: \"https://download.pytorch.org/models/fasterrcnn_resnet50_fpn_coco-258fb6c6.pth\" to /root/.cache/torch/hub/checkpoints/fasterrcnn_resnet50_fpn_coco-258fb6c6.pth\n"
          ]
        },
        {
          "output_type": "display_data",
          "data": {
            "text/plain": [
              "  0%|          | 0.00/160M [00:00<?, ?B/s]"
            ],
            "application/vnd.jupyter.widget-view+json": {
              "version_major": 2,
              "version_minor": 0,
              "model_id": "44a34247647347fabecbccf1049840c2"
            }
          },
          "metadata": {}
        }
      ],
      "source": [
        "# Пути к сохранённым весам дообученной yolo5 и самой папке с yolo5 (детекция рамки с номером)\n",
        "model_path_yolo = str(root_dir.joinpath(root_dir, 'yolov5/runs/train/exp2/weights/best.pt'))\n",
        "yolo_path = str(root_dir.joinpath(root_dir, 'yolov5'))\n",
        "\n",
        "# Загрузка yolo и загрузка в неё сохранённых ранее при дообучении весов\n",
        "model_yolo = torch.hub.load(yolo_path, 'custom', path=model_path_yolo, source='local')\n",
        "\n",
        "# метки классов для detecto\n",
        "labels = ['0','1','2','3','4','5','6','7','8','9', 'А', 'В', 'С', 'Е', 'Н', 'К', 'М', 'О', 'Р', 'Т', 'Х', 'У']\n",
        "\n",
        "# Путь к весам дообученной в detecto модели (детекция и распознавание символов гос. номера)\n",
        "path_to_weights_detecto =  str(root_dir.joinpath(root_dir, 'detecto/model/model_weights_2.pth'))\n",
        "\n",
        "model_detecto = core.Model.load(path_to_weights_detecto, labels)\n"
      ]
    },
    {
      "cell_type": "code",
      "source": [
        "# Функция нужна для получения из yolo5 координатов баундинг бокса рамки с номером по каждому кадру. Принимает на вход кадр.\n",
        "def get_bboxes(video_frame):\n",
        "\n",
        "  results = model_yolo([video_frame])\n",
        "\n",
        "  plates = []\n",
        "  if results.xyxy[0].shape[0] == 0:\n",
        "    pass\n",
        "  else:\n",
        "    number_of_license_plate = results.xyxy[0].shape[0]\n",
        "    \n",
        "    for i in range(0, number_of_license_plate):\n",
        "      xmin = results.xyxy[0][i][0]\n",
        "      ymin = results.xyxy[0][i][1]\n",
        "      xmax = results.xyxy[0][i][2]\n",
        "      ymax = results.xyxy[0][i][3]\n",
        "      confidence = results.xyxy[0][i][4]\n",
        "      plates.append((xmin, ymin, xmax, ymax, confidence))\n",
        "  return plates \n",
        "\n",
        "\n",
        "# Функция нужна для детекции и распознавания символов на фрагменте изображения с номером.\n",
        "# Принимает на вход кадр и порог уверенности\n",
        "def predict_symbols(image, tresh):\n",
        "\n",
        "  predictions = model_detecto.predict(image)\n",
        "  labels, boxes, scores = predictions\n",
        "  \n",
        "  # Будем брать только те баундинг боксы, где уверенность выше пороговой\n",
        "  filtered_indices=np.where(scores>tresh)\n",
        "  filtered_boxes=boxes[filtered_indices]\n",
        "  num_list = filtered_indices[0].tolist()\n",
        "  filtered_labels = [labels[i] for i in num_list]\n",
        "  \n",
        "  # Так как оставшиеся после фильтрации метки классов располагаются не в том\n",
        "  # порядке какой нужен, отсортируем их по xmin их баундинг боксов с помощью словаря. \n",
        "  symbols_dict = {}\n",
        "  number_symbols = filtered_boxes.shape[0]\n",
        "  for i in range(0,number_symbols):\n",
        "    symbols_dict[float(filtered_boxes[i][0])] = filtered_labels[i]\n",
        "  result = \"\".join(list(dict(sorted(symbols_dict.items())).values()))\n",
        "    \n",
        "  return  result\n",
        "\n",
        "\n",
        "# Функция нужна для отрисовки рамки с найденным гос. номером номером и confidence на каждом кадре.\n",
        "# А также для подсчёта количества кадров, где номер распознался правильно.\n",
        "# Принимает на вход список баундинг боксов, кадр и порог уверенности\n",
        "def draw_bboxes(boxes_list, frame, conf, treshold_detecto, gr_truth):\n",
        "  number_of_recognition = 0\n",
        "  if len(boxes_list) == 0:\n",
        "    plate_number = None\n",
        "        \n",
        "  else:\n",
        "    # Отрисовываем рамку с номером, если уверенность выше пороговой \n",
        "    for box in boxes_list:\n",
        "      if box[4] >= conf:\n",
        "        #cv2.rectangle(frame, (int(box[0]), int(box[1])), (int(box[0]) + (int(box[2])-int(box[0])), int(box[1]) + (int(box[3])-int(box[1]))), (0, 0, 255), 3)\n",
        "        #cv2.putText(frame, str(round(float(box[4]),2)) , (int(box[0]), int(box[1])-10), cv2.FONT_HERSHEY_DUPLEX, 0.5, (0, 0, 255),lineType=cv2.LINE_AA)\n",
        "        plate_number = frame[int(box[1]): int(box[1]) + (int(box[3])-int(box[1])), int(box[0]): int(box[0]) + (int(box[2])-int(box[0]))]\n",
        "        clear_output(wait=True)\n",
        "        cv2_imshow(plate_number)\n",
        "        \n",
        "        # Находим и распознаём символы с помощью detecto. Отрисовываем гос. номер на кадре.\n",
        "        plate_number_symbols = predict_symbols(plate_number, treshold_detecto)\n",
        "        print(plate_number_symbols)\n",
        "        #cv2.putText(frame, plate_number_symbols , (int(box[0])+40, int(box[1])-10), cv2.FONT_HERSHEY_COMPLEX, 1, (0, 255, 0),lineType=cv2.LINE_AA)\n",
        "        \n",
        "        # Если номер распознался правильно в переменную передаём 1\n",
        "        if plate_number_symbols == gr_truth:\n",
        "          number_of_recognition = 1\n",
        "\n",
        "      else:\n",
        "        plate_number = None\n",
        "            \n",
        "  return frame, plate_number, number_of_recognition    "
      ],
      "metadata": {
        "id": "5hFusjlURCfI"
      },
      "id": "5hFusjlURCfI",
      "execution_count": 8,
      "outputs": []
    },
    {
      "cell_type": "code",
      "source": [
        "# Путь к видео на котором будем искать номер и распознавать его\n",
        "path_to_video = str(root_dir.joinpath(root_dir, 'VID_20190810_064327.mp4'))          \n",
        "\n",
        "# Захват видеопотока\n",
        "video_stream = cv2.VideoCapture(path_to_video)\n",
        "\n",
        "#fourcc = cv2.VideoWriter_fourcc(*'MJPG')\n",
        "#frame_width = int(video_stream.get(3))\n",
        "#frame_height = int(video_stream.get(4))\n",
        "\n",
        "# Будем выводить обработанное видео с отрисованными номером в отдельный файл \n",
        "#out = cv2.VideoWriter(str(root_dir.joinpath(root_dir, 'out_video.avi')), fourcc , 25, (frame_width,frame_height))\n",
        "\n",
        "# Уверенность для yolo и порог для detecto\n",
        "confidence_yolo = 0.2\n",
        "treshold_detecto = 0.6\n",
        "\n",
        "# Инициализация модели\n",
        "model_detecto = core.Model.load(path_to_weights_detecto, labels)\n",
        "\n",
        "# Задаем переменные для подсчета количества кадров,\n",
        "# для номера с которым будем сравнивать результат распознавания и для числа правильных распознаваний.\n",
        "frame_number = 0\n",
        "ground_truth = 'Н703СУ68'\n",
        "number_of_recognition = 0\n",
        "\n",
        "# Время начала обработки видео. \n",
        "start_time = time.time()\n",
        "\n",
        "# Обрабтываем каждый кадр захваченного видеопотока, передаём кадры в ранее написанные функции.\n",
        "while True:\n",
        "  (grabbed, frame) = video_stream.read()\n",
        "  frame_number +=1\n",
        "  if not grabbed:\n",
        "    break\n",
        "  bboxes = get_bboxes(frame)\n",
        "    \n",
        "  frame_to_draw, plate_number, number_of_recogn = draw_bboxes(bboxes, frame, confidence_yolo, treshold_detecto, ground_truth)\n",
        "  #out.write(frame_to_draw)\n",
        "  \n",
        "  number_of_recognition += number_of_recogn\n",
        "\n",
        "# Время окончания обработки видео.\n",
        "end_time = time.time()"
      ],
      "metadata": {
        "id": "wbGfOedCq6L9",
        "colab": {
          "base_uri": "https://localhost:8080/",
          "height": 99
        },
        "outputId": "e5f776d1-7546-45b6-ed26-da99e3396191"
      },
      "id": "wbGfOedCq6L9",
      "execution_count": 10,
      "outputs": [
        {
          "output_type": "display_data",
          "data": {
            "text/plain": [
              "<PIL.Image.Image image mode=RGB size=253x64 at 0x7FD64629E510>"
            ],
            "image/png": "[encoded data removed]"
          },
          "metadata": {}
        },
        {
          "output_type": "stream",
          "name": "stdout",
          "text": [
            "Н703СУ68\n"
          ]
        }
      ]
    },
    {
      "cell_type": "code",
      "source": [
        "# Код читает видео, yolo5 находит рамку с номером, detecto распознает на рамке с номером символы.\n",
        "\n",
        "print(\"Количество кадров в видео = \", frame_number)\n",
        "print(\"Количество кадров в видео, где номер распознался правильно = \", number_of_recognition)\n",
        "\n",
        "# Точность распознавания номера будем считать, как количество кадров, где номер распознался правильно делённое на общее число кадров.\n",
        "print(\"Точность распознавания номера равна \", number_of_recognition/frame_number*100,\"%\")\n",
        "\n",
        "print(\"Время обработки видео = \", end_time-start_time)\n",
        "print(\"Скорость обработки видео составила  \", frame_number/(end_time-start_time),\" кадров в секунду\")"
      ],
      "metadata": {
        "id": "Vm-chc3Ldmgd",
        "colab": {
          "base_uri": "https://localhost:8080/"
        },
        "outputId": "cf9daf9c-7177-482b-e939-a52cce5f8ee3"
      },
      "id": "Vm-chc3Ldmgd",
      "execution_count": 12,
      "outputs": [
        {
          "output_type": "stream",
          "name": "stdout",
          "text": [
            "Количество кадров в видео =  302\n",
            "Количество кадров в видео, где номер распознался правильно =  301\n",
            "Точность распознавания номера равна  99.66887417218543 %\n",
            "Время обработки видео =  32.79227018356323\n",
            "Скорость обработки видео составила   9.209487428271258  кадров в секунду\n"
          ]
        }
      ]
    },
    {
      "cell_type": "markdown",
      "source": [],
      "metadata": {
        "id": "PERXXKR_cICU"
      },
      "id": "PERXXKR_cICU"
    }
  ],
  "metadata": {
    "kernelspec": {
      "display_name": "Python 3 (ipykernel)",
      "language": "python",
      "name": "python3"
    },
    "language_info": {
      "codemirror_mode": {
        "name": "ipython",
        "version": 3
      },
      "file_extension": ".py",
      "mimetype": "text/x-python",
      "name": "python",
      "nbconvert_exporter": "python",
      "pygments_lexer": "ipython3",
      "version": "3.8.5"
    },
    "colab": {
      "provenance": [],
      "collapsed_sections": []
    },
    "widgets": {
      "application/vnd.jupyter.widget-state+json": {
        "44a34247647347fabecbccf1049840c2": {
          "model_module": "@jupyter-widgets/controls",
          "model_name": "HBoxModel",
          "model_module_version": "1.5.0",
          "state": {
            "_dom_classes": [],
            "_model_module": "@jupyter-widgets/controls",
            "_model_module_version": "1.5.0",
            "_model_name": "HBoxModel",
            "_view_count": null,
            "_view_module": "@jupyter-widgets/controls",
            "_view_module_version": "1.5.0",
            "_view_name": "HBoxView",
            "box_style": "",
            "children": [
              "IPY_MODEL_7ec196291bf949d094ec94ad72433eab",
              "IPY_MODEL_3436ef427cf3491f8d4a935630122d71",
              "IPY_MODEL_3a21c28b4a704fa6a2a0f0b10797bfe1"
            ],
            "layout": "IPY_MODEL_d8cd279529954f8b8a5a2b3fce677f84"
          }
        },
        "7ec196291bf949d094ec94ad72433eab": {
          "model_module": "@jupyter-widgets/controls",
          "model_name": "HTMLModel",
          "model_module_version": "1.5.0",
          "state": {
            "_dom_classes": [],
            "_model_module": "@jupyter-widgets/controls",
            "_model_module_version": "1.5.0",
            "_model_name": "HTMLModel",
            "_view_count": null,
            "_view_module": "@jupyter-widgets/controls",
            "_view_module_version": "1.5.0",
            "_view_name": "HTMLView",
            "description": "",
            "description_tooltip": null,
            "layout": "IPY_MODEL_e68224f66cf643cabde42d5f75aaa8b5",
            "placeholder": "​",
            "style": "IPY_MODEL_d4b4e311736f41139136800b2ded710d",
            "value": "100%"
          }
        },
        "3436ef427cf3491f8d4a935630122d71": {
          "model_module": "@jupyter-widgets/controls",
          "model_name": "FloatProgressModel",
          "model_module_version": "1.5.0",
          "state": {
            "_dom_classes": [],
            "_model_module": "@jupyter-widgets/controls",
            "_model_module_version": "1.5.0",
            "_model_name": "FloatProgressModel",
            "_view_count": null,
            "_view_module": "@jupyter-widgets/controls",
            "_view_module_version": "1.5.0",
            "_view_name": "ProgressView",
            "bar_style": "success",
            "description": "",
            "description_tooltip": null,
            "layout": "IPY_MODEL_0890989f105c45bba8332e75de6cb615",
            "max": 167502836,
            "min": 0,
            "orientation": "horizontal",
            "style": "IPY_MODEL_e8ac0dae76514c2a9f3c3d7e9bb3f7d8",
            "value": 167502836
          }
        },
        "3a21c28b4a704fa6a2a0f0b10797bfe1": {
          "model_module": "@jupyter-widgets/controls",
          "model_name": "HTMLModel",
          "model_module_version": "1.5.0",
          "state": {
            "_dom_classes": [],
            "_model_module": "@jupyter-widgets/controls",
            "_model_module_version": "1.5.0",
            "_model_name": "HTMLModel",
            "_view_count": null,
            "_view_module": "@jupyter-widgets/controls",
            "_view_module_version": "1.5.0",
            "_view_name": "HTMLView",
            "description": "",
            "description_tooltip": null,
            "layout": "IPY_MODEL_0dfe4176f44e4fd382f920bb22397a9e",
            "placeholder": "​",
            "style": "IPY_MODEL_2391381d6912428a863312ae47a62f3c",
            "value": " 160M/160M [00:00&lt;00:00, 216MB/s]"
          }
        },
        "d8cd279529954f8b8a5a2b3fce677f84": {
          "model_module": "@jupyter-widgets/base",
          "model_name": "LayoutModel",
          "model_module_version": "1.2.0",
          "state": {
            "_model_module": "@jupyter-widgets/base",
            "_model_module_version": "1.2.0",
            "_model_name": "LayoutModel",
            "_view_count": null,
            "_view_module": "@jupyter-widgets/base",
            "_view_module_version": "1.2.0",
            "_view_name": "LayoutView",
            "align_content": null,
            "align_items": null,
            "align_self": null,
            "border": null,
            "bottom": null,
            "display": null,
            "flex": null,
            "flex_flow": null,
            "grid_area": null,
            "grid_auto_columns": null,
            "grid_auto_flow": null,
            "grid_auto_rows": null,
            "grid_column": null,
            "grid_gap": null,
            "grid_row": null,
            "grid_template_areas": null,
            "grid_template_columns": null,
            "grid_template_rows": null,
            "height": null,
            "justify_content": null,
            "justify_items": null,
            "left": null,
            "margin": null,
            "max_height": null,
            "max_width": null,
            "min_height": null,
            "min_width": null,
            "object_fit": null,
            "object_position": null,
            "order": null,
            "overflow": null,
            "overflow_x": null,
            "overflow_y": null,
            "padding": null,
            "right": null,
            "top": null,
            "visibility": null,
            "width": null
          }
        },
        "e68224f66cf643cabde42d5f75aaa8b5": {
          "model_module": "@jupyter-widgets/base",
          "model_name": "LayoutModel",
          "model_module_version": "1.2.0",
          "state": {
            "_model_module": "@jupyter-widgets/base",
            "_model_module_version": "1.2.0",
            "_model_name": "LayoutModel",
            "_view_count": null,
            "_view_module": "@jupyter-widgets/base",
            "_view_module_version": "1.2.0",
            "_view_name": "LayoutView",
            "align_content": null,
            "align_items": null,
            "align_self": null,
            "border": null,
            "bottom": null,
            "display": null,
            "flex": null,
            "flex_flow": null,
            "grid_area": null,
            "grid_auto_columns": null,
            "grid_auto_flow": null,
            "grid_auto_rows": null,
            "grid_column": null,
            "grid_gap": null,
            "grid_row": null,
            "grid_template_areas": null,
            "grid_template_columns": null,
            "grid_template_rows": null,
            "height": null,
            "justify_content": null,
            "justify_items": null,
            "left": null,
            "margin": null,
            "max_height": null,
            "max_width": null,
            "min_height": null,
            "min_width": null,
            "object_fit": null,
            "object_position": null,
            "order": null,
            "overflow": null,
            "overflow_x": null,
            "overflow_y": null,
            "padding": null,
            "right": null,
            "top": null,
            "visibility": null,
            "width": null
          }
        },
        "d4b4e311736f41139136800b2ded710d": {
          "model_module": "@jupyter-widgets/controls",
          "model_name": "DescriptionStyleModel",
          "model_module_version": "1.5.0",
          "state": {
            "_model_module": "@jupyter-widgets/controls",
            "_model_module_version": "1.5.0",
            "_model_name": "DescriptionStyleModel",
            "_view_count": null,
            "_view_module": "@jupyter-widgets/base",
            "_view_module_version": "1.2.0",
            "_view_name": "StyleView",
            "description_width": ""
          }
        },
        "0890989f105c45bba8332e75de6cb615": {
          "model_module": "@jupyter-widgets/base",
          "model_name": "LayoutModel",
          "model_module_version": "1.2.0",
          "state": {
            "_model_module": "@jupyter-widgets/base",
            "_model_module_version": "1.2.0",
            "_model_name": "LayoutModel",
            "_view_count": null,
            "_view_module": "@jupyter-widgets/base",
            "_view_module_version": "1.2.0",
            "_view_name": "LayoutView",
            "align_content": null,
            "align_items": null,
            "align_self": null,
            "border": null,
            "bottom": null,
            "display": null,
            "flex": null,
            "flex_flow": null,
            "grid_area": null,
            "grid_auto_columns": null,
            "grid_auto_flow": null,
            "grid_auto_rows": null,
            "grid_column": null,
            "grid_gap": null,
            "grid_row": null,
            "grid_template_areas": null,
            "grid_template_columns": null,
            "grid_template_rows": null,
            "height": null,
            "justify_content": null,
            "justify_items": null,
            "left": null,
            "margin": null,
            "max_height": null,
            "max_width": null,
            "min_height": null,
            "min_width": null,
            "object_fit": null,
            "object_position": null,
            "order": null,
            "overflow": null,
            "overflow_x": null,
            "overflow_y": null,
            "padding": null,
            "right": null,
            "top": null,
            "visibility": null,
            "width": null
          }
        },
        "e8ac0dae76514c2a9f3c3d7e9bb3f7d8": {
          "model_module": "@jupyter-widgets/controls",
          "model_name": "ProgressStyleModel",
          "model_module_version": "1.5.0",
          "state": {
            "_model_module": "@jupyter-widgets/controls",
            "_model_module_version": "1.5.0",
            "_model_name": "ProgressStyleModel",
            "_view_count": null,
            "_view_module": "@jupyter-widgets/base",
            "_view_module_version": "1.2.0",
            "_view_name": "StyleView",
            "bar_color": null,
            "description_width": ""
          }
        },
        "0dfe4176f44e4fd382f920bb22397a9e": {
          "model_module": "@jupyter-widgets/base",
          "model_name": "LayoutModel",
          "model_module_version": "1.2.0",
          "state": {
            "_model_module": "@jupyter-widgets/base",
            "_model_module_version": "1.2.0",
            "_model_name": "LayoutModel",
            "_view_count": null,
            "_view_module": "@jupyter-widgets/base",
            "_view_module_version": "1.2.0",
            "_view_name": "LayoutView",
            "align_content": null,
            "align_items": null,
            "align_self": null,
            "border": null,
            "bottom": null,
            "display": null,
            "flex": null,
            "flex_flow": null,
            "grid_area": null,
            "grid_auto_columns": null,
            "grid_auto_flow": null,
            "grid_auto_rows": null,
            "grid_column": null,
            "grid_gap": null,
            "grid_row": null,
            "grid_template_areas": null,
            "grid_template_columns": null,
            "grid_template_rows": null,
            "height": null,
            "justify_content": null,
            "justify_items": null,
            "left": null,
            "margin": null,
            "max_height": null,
            "max_width": null,
            "min_height": null,
            "min_width": null,
            "object_fit": null,
            "object_position": null,
            "order": null,
            "overflow": null,
            "overflow_x": null,
            "overflow_y": null,
            "padding": null,
            "right": null,
            "top": null,
            "visibility": null,
            "width": null
          }
        },
        "2391381d6912428a863312ae47a62f3c": {
          "model_module": "@jupyter-widgets/controls",
          "model_name": "DescriptionStyleModel",
          "model_module_version": "1.5.0",
          "state": {
            "_model_module": "@jupyter-widgets/controls",
            "_model_module_version": "1.5.0",
            "_model_name": "DescriptionStyleModel",
            "_view_count": null,
            "_view_module": "@jupyter-widgets/base",
            "_view_module_version": "1.2.0",
            "_view_name": "StyleView",
            "description_width": ""
          }
        }
      }
    },
    "accelerator": "GPU"
  },
  "nbformat": 4,
  "nbformat_minor": 5
}