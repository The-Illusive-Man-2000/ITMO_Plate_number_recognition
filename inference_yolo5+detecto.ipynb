{
  "cells": [
    {
      "cell_type": "code",
      "execution_count": 1,
      "id": "f6445ad5",
      "metadata": {
        "id": "f6445ad5",
        "colab": {
          "base_uri": "https://localhost:8080/"
        },
        "outputId": "68dc90ba-6ff7-4a32-82b1-92e7f792f5b5"
      },
      "outputs": [
        {
          "output_type": "stream",
          "name": "stdout",
          "text": [
            "Looking in indexes: https://pypi.org/simple, https://us-python.pkg.dev/colab-wheels/public/simple/\n",
            "Collecting detecto\n",
            "  Downloading detecto-1.2.2-py3-none-any.whl (25 kB)\n",
            "Requirement already satisfied: opencv-python in /usr/local/lib/python3.7/dist-packages (from detecto) (4.6.0.66)\n",
            "Requirement already satisfied: pandas in /usr/local/lib/python3.7/dist-packages (from detecto) (1.3.5)\n",
            "Requirement already satisfied: torch in /usr/local/lib/python3.7/dist-packages (from detecto) (1.12.1+cu113)\n",
            "Requirement already satisfied: tqdm in /usr/local/lib/python3.7/dist-packages (from detecto) (4.64.1)\n",
            "Requirement already satisfied: torchvision in /usr/local/lib/python3.7/dist-packages (from detecto) (0.13.1+cu113)\n",
            "Requirement already satisfied: matplotlib in /usr/local/lib/python3.7/dist-packages (from detecto) (3.2.2)\n",
            "Requirement already satisfied: kiwisolver>=1.0.1 in /usr/local/lib/python3.7/dist-packages (from matplotlib->detecto) (1.4.4)\n",
            "Requirement already satisfied: numpy>=1.11 in /usr/local/lib/python3.7/dist-packages (from matplotlib->detecto) (1.21.6)\n",
            "Requirement already satisfied: pyparsing!=2.0.4,!=2.1.2,!=2.1.6,>=2.0.1 in /usr/local/lib/python3.7/dist-packages (from matplotlib->detecto) (3.0.9)\n",
            "Requirement already satisfied: cycler>=0.10 in /usr/local/lib/python3.7/dist-packages (from matplotlib->detecto) (0.11.0)\n",
            "Requirement already satisfied: python-dateutil>=2.1 in /usr/local/lib/python3.7/dist-packages (from matplotlib->detecto) (2.8.2)\n",
            "Requirement already satisfied: typing-extensions in /usr/local/lib/python3.7/dist-packages (from kiwisolver>=1.0.1->matplotlib->detecto) (4.1.1)\n",
            "Requirement already satisfied: six>=1.5 in /usr/local/lib/python3.7/dist-packages (from python-dateutil>=2.1->matplotlib->detecto) (1.15.0)\n",
            "Requirement already satisfied: pytz>=2017.3 in /usr/local/lib/python3.7/dist-packages (from pandas->detecto) (2022.2.1)\n",
            "Requirement already satisfied: requests in /usr/local/lib/python3.7/dist-packages (from torchvision->detecto) (2.23.0)\n",
            "Requirement already satisfied: pillow!=8.3.*,>=5.3.0 in /usr/local/lib/python3.7/dist-packages (from torchvision->detecto) (7.1.2)\n",
            "Requirement already satisfied: idna<3,>=2.5 in /usr/local/lib/python3.7/dist-packages (from requests->torchvision->detecto) (2.10)\n",
            "Requirement already satisfied: chardet<4,>=3.0.2 in /usr/local/lib/python3.7/dist-packages (from requests->torchvision->detecto) (3.0.4)\n",
            "Requirement already satisfied: urllib3!=1.25.0,!=1.25.1,<1.26,>=1.21.1 in /usr/local/lib/python3.7/dist-packages (from requests->torchvision->detecto) (1.24.3)\n",
            "Requirement already satisfied: certifi>=2017.4.17 in /usr/local/lib/python3.7/dist-packages (from requests->torchvision->detecto) (2022.6.15)\n",
            "Installing collected packages: detecto\n",
            "Successfully installed detecto-1.2.2\n"
          ]
        }
      ],
      "source": [
        "# Установка библиоткеи detecto.\n",
        "!pip install detecto"
      ]
    },
    {
      "cell_type": "code",
      "source": [
        "# Загрузка модулей\n",
        "\n",
        "import numpy as np\n",
        "import matplotlib.pyplot as plt\n",
        "import torch\n",
        "from detecto import core, utils, visualize\n",
        "from detecto.visualize import show_labeled_image, plot_prediction_grid\n",
        "\n",
        "import cv2\n",
        "import imutils\n",
        "from cv2 import VideoWriter_fourcc\n",
        "from imutils.video import VideoStream\n",
        "from imutils.video import FPS\n",
        "from IPython.display import clear_output\n",
        "from google.colab.patches import cv2_imshow\n",
        "from pathlib import Path"
      ],
      "metadata": {
        "id": "PxcO-oETUII-"
      },
      "id": "PxcO-oETUII-",
      "execution_count": 2,
      "outputs": []
    },
    {
      "cell_type": "code",
      "source": [
        "# Подключение гугл диска\n",
        "from google.colab import drive\n",
        "drive.mount('/content/drive')"
      ],
      "metadata": {
        "colab": {
          "base_uri": "https://localhost:8080/"
        },
        "id": "5q_PDi3ntGG1",
        "outputId": "2ca39926-9766-42d2-d683-5e02ca78c7f4"
      },
      "id": "5q_PDi3ntGG1",
      "execution_count": 3,
      "outputs": [
        {
          "output_type": "stream",
          "name": "stdout",
          "text": [
            "Mounted at /content/drive\n"
          ]
        }
      ]
    },
    {
      "cell_type": "code",
      "source": [
        "%cd /content/drive/MyDrive\n",
        "root_dir = Path().cwd()\n",
        "print(root_dir)"
      ],
      "metadata": {
        "colab": {
          "base_uri": "https://localhost:8080/"
        },
        "id": "K2cuUPJ6UXyA",
        "outputId": "1474ad25-c76e-4dc8-f035-14830a8bfa65"
      },
      "id": "K2cuUPJ6UXyA",
      "execution_count": 4,
      "outputs": [
        {
          "output_type": "stream",
          "name": "stdout",
          "text": [
            "/content/drive/MyDrive\n",
            "/content/drive/MyDrive\n"
          ]
        }
      ]
    },
    {
      "cell_type": "code",
      "execution_count": 5,
      "id": "d73ee5a9",
      "metadata": {
        "colab": {
          "base_uri": "https://localhost:8080/",
          "height": 252,
          "referenced_widgets": [
            "5178a8a08d60469086967c8031acb06d",
            "8b05d6171db846b69e24dd4893b15f0a",
            "e3413e957ecf4f24b85039b4afa1a6a6",
            "a91aec1679b242788e7580eb1d0db5ec",
            "aa0e79a73c8b44199057fcc193336cf0",
            "df62a86d6e3741379e5c1d6f72fca44e",
            "9b5ae3caaed5432fb1e9f698afbdc9f7",
            "d2a340dc7c144636b3edbfa2d9049dae",
            "7952ec4575a04a0faa86c84cec3cc025",
            "10d664235af445d9944ebb01469adca3",
            "ef8fd613837149c2984d045bb792997d"
          ]
        },
        "id": "d73ee5a9",
        "outputId": "159043e6-0b05-4046-9631-789092cb73d6"
      },
      "outputs": [
        {
          "output_type": "stream",
          "name": "stderr",
          "text": [
            "YOLOv5 🚀 2022-9-22 Python-3.7.14 torch-1.12.1+cu113 CPU\n",
            "\n",
            "Fusing layers... \n",
            "Model summary: 276 layers, 35248920 parameters, 0 gradients\n",
            "Adding AutoShape... \n",
            "/usr/local/lib/python3.7/dist-packages/torchvision/models/_utils.py:209: UserWarning: The parameter 'pretrained' is deprecated since 0.13 and will be removed in 0.15, please use 'weights' instead.\n",
            "  f\"The parameter '{pretrained_param}' is deprecated since 0.13 and will be removed in 0.15, \"\n",
            "/usr/local/lib/python3.7/dist-packages/torchvision/models/_utils.py:223: UserWarning: Arguments other than a weight enum or `None` for 'weights' are deprecated since 0.13 and will be removed in 0.15. The current behavior is equivalent to passing `weights=FasterRCNN_ResNet50_FPN_Weights.COCO_V1`. You can also use `weights=FasterRCNN_ResNet50_FPN_Weights.DEFAULT` to get the most up-to-date weights.\n",
            "  warnings.warn(msg)\n",
            "Downloading: \"https://download.pytorch.org/models/fasterrcnn_resnet50_fpn_coco-258fb6c6.pth\" to /root/.cache/torch/hub/checkpoints/fasterrcnn_resnet50_fpn_coco-258fb6c6.pth\n"
          ]
        },
        {
          "output_type": "display_data",
          "data": {
            "text/plain": [
              "  0%|          | 0.00/160M [00:00<?, ?B/s]"
            ],
            "application/vnd.jupyter.widget-view+json": {
              "version_major": 2,
              "version_minor": 0,
              "model_id": "5178a8a08d60469086967c8031acb06d"
            }
          },
          "metadata": {}
        }
      ],
      "source": [
        "# Пути к сохранённым весам дообученной yolo5 и самой папке с yolo5 (детекция рамки с номером)\n",
        "model_path_yolo = str(root_dir.joinpath(root_dir, 'yolov5/runs/train/exp2/weights/best.pt'))\n",
        "yolo_path = str(root_dir.joinpath(root_dir, 'yolov5'))       \n",
        "\n",
        "# Загрузка yolo и загрузка в неё сохранённых ранее при дообучении весов\n",
        "model_yolo = torch.hub.load(yolo_path, 'custom', path=model_path_yolo, source='local')\n",
        "\n",
        "# метки классов для detecto\n",
        "labels = ['0','1','2','3','4','5','6','7','8','9', 'А', 'В', 'С', 'Е', 'Н', 'К', 'М', 'О', 'Р', 'Т', 'Х', 'У']\n",
        "\n",
        "# Путь к весам дообученной в detecto модели (детекция и распознавание символов гос. номера)\n",
        "path_to_weights_detecto =  str(root_dir.joinpath(root_dir, 'detecto/model/model_weights_2.pth'))\n",
        "\n",
        "model_detecto = core.Model.load(path_to_weights_detecto, labels)\n"
      ]
    },
    {
      "cell_type": "code",
      "source": [
        "# Функция нужна для получения из yolo5 координатов баундинг бокса рамки с номером по каждому кадру. Принимает на вход кадр.\n",
        "def get_bboxes(video_frame):\n",
        "\n",
        "  results = model_yolo([video_frame])\n",
        "\n",
        "  plates = []\n",
        "  if results.xyxy[0].shape[0] == 0:\n",
        "    pass\n",
        "  else:\n",
        "    number_of_license_plate = results.xyxy[0].shape[0]\n",
        "    \n",
        "    for i in range(0, number_of_license_plate):\n",
        "      xmin = results.xyxy[0][i][0]\n",
        "      ymin = results.xyxy[0][i][1]\n",
        "      xmax = results.xyxy[0][i][2]\n",
        "      ymax = results.xyxy[0][i][3]\n",
        "      confidence = results.xyxy[0][i][4]\n",
        "      plates.append((xmin, ymin, xmax, ymax, confidence))\n",
        "  return plates \n",
        "\n",
        "\n",
        "# Функция нужна для отрисовки рамки с найденным гос. номером номером и confidence на каждом кадре.\n",
        "# Принимает на вход список баундинг боксов, кадр и порог уверенности\n",
        "def draw_bboxes(boxes_list, frame, conf, treshold_detecto):\n",
        "  if len(boxes_list) == 0:\n",
        "    plate_number = None\n",
        "        \n",
        "  else:\n",
        "    # Отрисовываем рамку с номером, если уверенность выше пороговой \n",
        "    for box in boxes_list:\n",
        "      if box[4] >= conf:\n",
        "        cv2.rectangle(frame, (int(box[0]), int(box[1])), (int(box[0]) + (int(box[2])-int(box[0])), int(box[1]) + (int(box[3])-int(box[1]))), (0, 0, 255), 3)\n",
        "        cv2.putText(frame, str(round(float(box[4]),2)) , (int(box[0]), int(box[1])-10), cv2.FONT_HERSHEY_DUPLEX, 0.5, (0, 0, 255),lineType=cv2.LINE_AA)\n",
        "        plate_number = frame[int(box[1]): int(box[1]) + (int(box[3])-int(box[1])), int(box[0]): int(box[0]) + (int(box[2])-int(box[0]))]\n",
        "        clear_output(wait=True)\n",
        "        cv2_imshow(plate_number)\n",
        "        \n",
        "        # Находим и распознаём символы с помощью detecto. Отрисовываем гос. номер на кадре.\n",
        "        plate_number_symbols = predict_symbols(plate_number, treshold_detecto)\n",
        "        print(plate_number_symbols)\n",
        "        cv2.putText(frame, plate_number_symbols , (int(box[0])+40, int(box[1])-10), cv2.FONT_HERSHEY_COMPLEX, 1, (0, 255, 0),lineType=cv2.LINE_AA)\n",
        "        \n",
        "      else:\n",
        "        plate_number = None\n",
        "            \n",
        "  return frame, plate_number\n",
        "\n",
        "\n",
        "# Функция нужна для детекции и распознавания символов на фрагменте изображения с номером.\n",
        "# Принимает на вход кадр и порог уверенности\n",
        "def predict_symbols(image, tresh):\n",
        "\n",
        "  predictions = model_detecto.predict(image)\n",
        "  labels, boxes, scores = predictions\n",
        "  \n",
        "  # Будем брать только те баундинг боксы, где уверенность выше пороговой\n",
        "  filtered_indices=np.where(scores>tresh)\n",
        "  filtered_boxes=boxes[filtered_indices]\n",
        "  num_list = filtered_indices[0].tolist()\n",
        "  filtered_labels = [labels[i] for i in num_list]\n",
        "  \n",
        "  # Так как оставшиеся после фильтрации метки классов располагаются не в том\n",
        "  # порядке какой нужен, отсортируем их по xmin их баундинг боксов с помощью словаря. \n",
        "  symbols_dict = {}\n",
        "  number_symbols = filtered_boxes.shape[0]\n",
        "  for i in range(0,number_symbols):\n",
        "    symbols_dict[float(filtered_boxes[i][0])] = filtered_labels[i]\n",
        "  result = \"\".join(list(dict(sorted(symbols_dict.items())).values()))\n",
        "    \n",
        "  return  result    "
      ],
      "metadata": {
        "id": "5hFusjlURCfI"
      },
      "id": "5hFusjlURCfI",
      "execution_count": 6,
      "outputs": []
    },
    {
      "cell_type": "code",
      "source": [
        "# Путь к видео на котором будем искать номер и распознавать его\n",
        "path_to_video = str(root_dir.joinpath(root_dir, 'VID_20190810_064327.mp4'))          \n",
        "\n",
        "# Захват видеопотока\n",
        "video_stream = cv2.VideoCapture(path_to_video)\n",
        "\n",
        "fourcc = cv2.VideoWriter_fourcc(*'MJPG')\n",
        "frame_width = int(video_stream.get(3))\n",
        "frame_height = int(video_stream.get(4))\n",
        "\n",
        "# Будем выводить обработанное видео с отрисованными номером в отдельный файл \n",
        "out = cv2.VideoWriter(str(root_dir.joinpath(root_dir, 'out_video.avi')), fourcc , 25, (frame_width,frame_height))\n",
        "\n",
        "# Уверенность для yolo и порог для detecto\n",
        "confidence_yolo = 0.2\n",
        "treshold_detecto = 0.6\n",
        "\n",
        "# Инициализация модели\n",
        "model_detecto = core.Model.load(path_to_weights_detecto, labels)\n",
        "\n",
        "# Обрабтываем каждый кадр захваченного видеопотока, передаём кадры в ранее написанные функции.\n",
        "while True:\n",
        "  (grabbed, frame) = video_stream.read()\n",
        "  if not grabbed:\n",
        "    break\n",
        "  bboxes = get_bboxes(frame)\n",
        "    \n",
        "  frame_to_draw, plate_number = draw_bboxes(bboxes, frame, confidence_yolo, treshold_detecto)\n",
        "  out.write(frame_to_draw)\n"
      ],
      "metadata": {
        "id": "wbGfOedCq6L9",
        "colab": {
          "base_uri": "https://localhost:8080/",
          "height": 99
        },
        "outputId": "4d70a9da-2119-4d3c-981c-4b432416c362"
      },
      "id": "wbGfOedCq6L9",
      "execution_count": 8,
      "outputs": [
        {
          "output_type": "display_data",
          "data": {
            "text/plain": [
              "<PIL.Image.Image image mode=RGB size=253x64 at 0x7FA19C0C1D50>"
            ],
            "image/png": "[encoded data removed]"
          },
          "metadata": {}
        },
        {
          "output_type": "stream",
          "name": "stdout",
          "text": [
            "Н703СУ68\n"
          ]
        }
      ]
    },
    {
      "cell_type": "code",
      "source": [
        "# Код читает видео, yolo5 находит рамку с номером, detecto распознает на рамке с номером символы."
      ],
      "metadata": {
        "id": "Vm-chc3Ldmgd"
      },
      "id": "Vm-chc3Ldmgd",
      "execution_count": null,
      "outputs": []
    },
    {
      "cell_type": "markdown",
      "source": [],
      "metadata": {
        "id": "PERXXKR_cICU"
      },
      "id": "PERXXKR_cICU"
    }
  ],
  "metadata": {
    "kernelspec": {
      "display_name": "Python 3 (ipykernel)",
      "language": "python",
      "name": "python3"
    },
    "language_info": {
      "codemirror_mode": {
        "name": "ipython",
        "version": 3
      },
      "file_extension": ".py",
      "mimetype": "text/x-python",
      "name": "python",
      "nbconvert_exporter": "python",
      "pygments_lexer": "ipython3",
      "version": "3.8.5"
    },
    "colab": {
      "provenance": [],
      "collapsed_sections": []
    },
    "widgets": {
      "application/vnd.jupyter.widget-state+json": {
        "5178a8a08d60469086967c8031acb06d": {
          "model_module": "@jupyter-widgets/controls",
          "model_name": "HBoxModel",
          "model_module_version": "1.5.0",
          "state": {
            "_dom_classes": [],
            "_model_module": "@jupyter-widgets/controls",
            "_model_module_version": "1.5.0",
            "_model_name": "HBoxModel",
            "_view_count": null,
            "_view_module": "@jupyter-widgets/controls",
            "_view_module_version": "1.5.0",
            "_view_name": "HBoxView",
            "box_style": "",
            "children": [
              "IPY_MODEL_8b05d6171db846b69e24dd4893b15f0a",
              "IPY_MODEL_e3413e957ecf4f24b85039b4afa1a6a6",
              "IPY_MODEL_a91aec1679b242788e7580eb1d0db5ec"
            ],
            "layout": "IPY_MODEL_aa0e79a73c8b44199057fcc193336cf0"
          }
        },
        "8b05d6171db846b69e24dd4893b15f0a": {
          "model_module": "@jupyter-widgets/controls",
          "model_name": "HTMLModel",
          "model_module_version": "1.5.0",
          "state": {
            "_dom_classes": [],
            "_model_module": "@jupyter-widgets/controls",
            "_model_module_version": "1.5.0",
            "_model_name": "HTMLModel",
            "_view_count": null,
            "_view_module": "@jupyter-widgets/controls",
            "_view_module_version": "1.5.0",
            "_view_name": "HTMLView",
            "description": "",
            "description_tooltip": null,
            "layout": "IPY_MODEL_df62a86d6e3741379e5c1d6f72fca44e",
            "placeholder": "​",
            "style": "IPY_MODEL_9b5ae3caaed5432fb1e9f698afbdc9f7",
            "value": "100%"
          }
        },
        "e3413e957ecf4f24b85039b4afa1a6a6": {
          "model_module": "@jupyter-widgets/controls",
          "model_name": "FloatProgressModel",
          "model_module_version": "1.5.0",
          "state": {
            "_dom_classes": [],
            "_model_module": "@jupyter-widgets/controls",
            "_model_module_version": "1.5.0",
            "_model_name": "FloatProgressModel",
            "_view_count": null,
            "_view_module": "@jupyter-widgets/controls",
            "_view_module_version": "1.5.0",
            "_view_name": "ProgressView",
            "bar_style": "success",
            "description": "",
            "description_tooltip": null,
            "layout": "IPY_MODEL_d2a340dc7c144636b3edbfa2d9049dae",
            "max": 167502836,
            "min": 0,
            "orientation": "horizontal",
            "style": "IPY_MODEL_7952ec4575a04a0faa86c84cec3cc025",
            "value": 167502836
          }
        },
        "a91aec1679b242788e7580eb1d0db5ec": {
          "model_module": "@jupyter-widgets/controls",
          "model_name": "HTMLModel",
          "model_module_version": "1.5.0",
          "state": {
            "_dom_classes": [],
            "_model_module": "@jupyter-widgets/controls",
            "_model_module_version": "1.5.0",
            "_model_name": "HTMLModel",
            "_view_count": null,
            "_view_module": "@jupyter-widgets/controls",
            "_view_module_version": "1.5.0",
            "_view_name": "HTMLView",
            "description": "",
            "description_tooltip": null,
            "layout": "IPY_MODEL_10d664235af445d9944ebb01469adca3",
            "placeholder": "​",
            "style": "IPY_MODEL_ef8fd613837149c2984d045bb792997d",
            "value": " 160M/160M [00:01&lt;00:00, 136MB/s]"
          }
        },
        "aa0e79a73c8b44199057fcc193336cf0": {
          "model_module": "@jupyter-widgets/base",
          "model_name": "LayoutModel",
          "model_module_version": "1.2.0",
          "state": {
            "_model_module": "@jupyter-widgets/base",
            "_model_module_version": "1.2.0",
            "_model_name": "LayoutModel",
            "_view_count": null,
            "_view_module": "@jupyter-widgets/base",
            "_view_module_version": "1.2.0",
            "_view_name": "LayoutView",
            "align_content": null,
            "align_items": null,
            "align_self": null,
            "border": null,
            "bottom": null,
            "display": null,
            "flex": null,
            "flex_flow": null,
            "grid_area": null,
            "grid_auto_columns": null,
            "grid_auto_flow": null,
            "grid_auto_rows": null,
            "grid_column": null,
            "grid_gap": null,
            "grid_row": null,
            "grid_template_areas": null,
            "grid_template_columns": null,
            "grid_template_rows": null,
            "height": null,
            "justify_content": null,
            "justify_items": null,
            "left": null,
            "margin": null,
            "max_height": null,
            "max_width": null,
            "min_height": null,
            "min_width": null,
            "object_fit": null,
            "object_position": null,
            "order": null,
            "overflow": null,
            "overflow_x": null,
            "overflow_y": null,
            "padding": null,
            "right": null,
            "top": null,
            "visibility": null,
            "width": null
          }
        },
        "df62a86d6e3741379e5c1d6f72fca44e": {
          "model_module": "@jupyter-widgets/base",
          "model_name": "LayoutModel",
          "model_module_version": "1.2.0",
          "state": {
            "_model_module": "@jupyter-widgets/base",
            "_model_module_version": "1.2.0",
            "_model_name": "LayoutModel",
            "_view_count": null,
            "_view_module": "@jupyter-widgets/base",
            "_view_module_version": "1.2.0",
            "_view_name": "LayoutView",
            "align_content": null,
            "align_items": null,
            "align_self": null,
            "border": null,
            "bottom": null,
            "display": null,
            "flex": null,
            "flex_flow": null,
            "grid_area": null,
            "grid_auto_columns": null,
            "grid_auto_flow": null,
            "grid_auto_rows": null,
            "grid_column": null,
            "grid_gap": null,
            "grid_row": null,
            "grid_template_areas": null,
            "grid_template_columns": null,
            "grid_template_rows": null,
            "height": null,
            "justify_content": null,
            "justify_items": null,
            "left": null,
            "margin": null,
            "max_height": null,
            "max_width": null,
            "min_height": null,
            "min_width": null,
            "object_fit": null,
            "object_position": null,
            "order": null,
            "overflow": null,
            "overflow_x": null,
            "overflow_y": null,
            "padding": null,
            "right": null,
            "top": null,
            "visibility": null,
            "width": null
          }
        },
        "9b5ae3caaed5432fb1e9f698afbdc9f7": {
          "model_module": "@jupyter-widgets/controls",
          "model_name": "DescriptionStyleModel",
          "model_module_version": "1.5.0",
          "state": {
            "_model_module": "@jupyter-widgets/controls",
            "_model_module_version": "1.5.0",
            "_model_name": "DescriptionStyleModel",
            "_view_count": null,
            "_view_module": "@jupyter-widgets/base",
            "_view_module_version": "1.2.0",
            "_view_name": "StyleView",
            "description_width": ""
          }
        },
        "d2a340dc7c144636b3edbfa2d9049dae": {
          "model_module": "@jupyter-widgets/base",
          "model_name": "LayoutModel",
          "model_module_version": "1.2.0",
          "state": {
            "_model_module": "@jupyter-widgets/base",
            "_model_module_version": "1.2.0",
            "_model_name": "LayoutModel",
            "_view_count": null,
            "_view_module": "@jupyter-widgets/base",
            "_view_module_version": "1.2.0",
            "_view_name": "LayoutView",
            "align_content": null,
            "align_items": null,
            "align_self": null,
            "border": null,
            "bottom": null,
            "display": null,
            "flex": null,
            "flex_flow": null,
            "grid_area": null,
            "grid_auto_columns": null,
            "grid_auto_flow": null,
            "grid_auto_rows": null,
            "grid_column": null,
            "grid_gap": null,
            "grid_row": null,
            "grid_template_areas": null,
            "grid_template_columns": null,
            "grid_template_rows": null,
            "height": null,
            "justify_content": null,
            "justify_items": null,
            "left": null,
            "margin": null,
            "max_height": null,
            "max_width": null,
            "min_height": null,
            "min_width": null,
            "object_fit": null,
            "object_position": null,
            "order": null,
            "overflow": null,
            "overflow_x": null,
            "overflow_y": null,
            "padding": null,
            "right": null,
            "top": null,
            "visibility": null,
            "width": null
          }
        },
        "7952ec4575a04a0faa86c84cec3cc025": {
          "model_module": "@jupyter-widgets/controls",
          "model_name": "ProgressStyleModel",
          "model_module_version": "1.5.0",
          "state": {
            "_model_module": "@jupyter-widgets/controls",
            "_model_module_version": "1.5.0",
            "_model_name": "ProgressStyleModel",
            "_view_count": null,
            "_view_module": "@jupyter-widgets/base",
            "_view_module_version": "1.2.0",
            "_view_name": "StyleView",
            "bar_color": null,
            "description_width": ""
          }
        },
        "10d664235af445d9944ebb01469adca3": {
          "model_module": "@jupyter-widgets/base",
          "model_name": "LayoutModel",
          "model_module_version": "1.2.0",
          "state": {
            "_model_module": "@jupyter-widgets/base",
            "_model_module_version": "1.2.0",
            "_model_name": "LayoutModel",
            "_view_count": null,
            "_view_module": "@jupyter-widgets/base",
            "_view_module_version": "1.2.0",
            "_view_name": "LayoutView",
            "align_content": null,
            "align_items": null,
            "align_self": null,
            "border": null,
            "bottom": null,
            "display": null,
            "flex": null,
            "flex_flow": null,
            "grid_area": null,
            "grid_auto_columns": null,
            "grid_auto_flow": null,
            "grid_auto_rows": null,
            "grid_column": null,
            "grid_gap": null,
            "grid_row": null,
            "grid_template_areas": null,
            "grid_template_columns": null,
            "grid_template_rows": null,
            "height": null,
            "justify_content": null,
            "justify_items": null,
            "left": null,
            "margin": null,
            "max_height": null,
            "max_width": null,
            "min_height": null,
            "min_width": null,
            "object_fit": null,
            "object_position": null,
            "order": null,
            "overflow": null,
            "overflow_x": null,
            "overflow_y": null,
            "padding": null,
            "right": null,
            "top": null,
            "visibility": null,
            "width": null
          }
        },
        "ef8fd613837149c2984d045bb792997d": {
          "model_module": "@jupyter-widgets/controls",
          "model_name": "DescriptionStyleModel",
          "model_module_version": "1.5.0",
          "state": {
            "_model_module": "@jupyter-widgets/controls",
            "_model_module_version": "1.5.0",
            "_model_name": "DescriptionStyleModel",
            "_view_count": null,
            "_view_module": "@jupyter-widgets/base",
            "_view_module_version": "1.2.0",
            "_view_name": "StyleView",
            "description_width": ""
          }
        }
      }
    }
  },
  "nbformat": 4,
  "nbformat_minor": 5
}