{
  "cells": [
    {
      "cell_type": "code",
      "execution_count": 4,
      "id": "f6445ad5",
      "metadata": {
        "id": "f6445ad5",
        "colab": {
          "base_uri": "https://localhost:8080/"
        },
        "outputId": "a5a2e735-d7e8-4900-ad23-3b43b9aa7d0a"
      },
      "outputs": [
        {
          "output_type": "stream",
          "name": "stdout",
          "text": [
            "Looking in indexes: https://pypi.org/simple, https://us-python.pkg.dev/colab-wheels/public/simple/\n",
            "Requirement already satisfied: detecto in /usr/local/lib/python3.7/dist-packages (1.2.2)\n",
            "Requirement already satisfied: torch in /usr/local/lib/python3.7/dist-packages (from detecto) (1.12.1+cu113)\n",
            "Requirement already satisfied: matplotlib in /usr/local/lib/python3.7/dist-packages (from detecto) (3.2.2)\n",
            "Requirement already satisfied: torchvision in /usr/local/lib/python3.7/dist-packages (from detecto) (0.13.1+cu113)\n",
            "Requirement already satisfied: tqdm in /usr/local/lib/python3.7/dist-packages (from detecto) (4.64.1)\n",
            "Requirement already satisfied: opencv-python in /usr/local/lib/python3.7/dist-packages (from detecto) (4.6.0.66)\n",
            "Requirement already satisfied: pandas in /usr/local/lib/python3.7/dist-packages (from detecto) (1.3.5)\n",
            "Requirement already satisfied: pyparsing!=2.0.4,!=2.1.2,!=2.1.6,>=2.0.1 in /usr/local/lib/python3.7/dist-packages (from matplotlib->detecto) (3.0.9)\n",
            "Requirement already satisfied: cycler>=0.10 in /usr/local/lib/python3.7/dist-packages (from matplotlib->detecto) (0.11.0)\n",
            "Requirement already satisfied: kiwisolver>=1.0.1 in /usr/local/lib/python3.7/dist-packages (from matplotlib->detecto) (1.4.4)\n",
            "Requirement already satisfied: python-dateutil>=2.1 in /usr/local/lib/python3.7/dist-packages (from matplotlib->detecto) (2.8.2)\n",
            "Requirement already satisfied: numpy>=1.11 in /usr/local/lib/python3.7/dist-packages (from matplotlib->detecto) (1.21.6)\n",
            "Requirement already satisfied: typing-extensions in /usr/local/lib/python3.7/dist-packages (from kiwisolver>=1.0.1->matplotlib->detecto) (4.1.1)\n",
            "Requirement already satisfied: six>=1.5 in /usr/local/lib/python3.7/dist-packages (from python-dateutil>=2.1->matplotlib->detecto) (1.15.0)\n",
            "Requirement already satisfied: pytz>=2017.3 in /usr/local/lib/python3.7/dist-packages (from pandas->detecto) (2022.2.1)\n",
            "Requirement already satisfied: requests in /usr/local/lib/python3.7/dist-packages (from torchvision->detecto) (2.23.0)\n",
            "Requirement already satisfied: pillow!=8.3.*,>=5.3.0 in /usr/local/lib/python3.7/dist-packages (from torchvision->detecto) (7.1.2)\n",
            "Requirement already satisfied: chardet<4,>=3.0.2 in /usr/local/lib/python3.7/dist-packages (from requests->torchvision->detecto) (3.0.4)\n",
            "Requirement already satisfied: certifi>=2017.4.17 in /usr/local/lib/python3.7/dist-packages (from requests->torchvision->detecto) (2022.6.15)\n",
            "Requirement already satisfied: idna<3,>=2.5 in /usr/local/lib/python3.7/dist-packages (from requests->torchvision->detecto) (2.10)\n",
            "Requirement already satisfied: urllib3!=1.25.0,!=1.25.1,<1.26,>=1.21.1 in /usr/local/lib/python3.7/dist-packages (from requests->torchvision->detecto) (1.24.3)\n"
          ]
        }
      ],
      "source": [
        "# Установка библиоткеи detecto и загрузка модулей\n",
        "\n",
        "!pip install detecto\n",
        "\n",
        "import numpy as np\n",
        "import matplotlib.pyplot as plt\n",
        "import torch\n",
        "from detecto import core, utils, visualize\n",
        "from detecto.visualize import show_labeled_image, plot_prediction_grid\n",
        "\n",
        "import cv2\n",
        "import imutils\n",
        "from cv2 import VideoWriter_fourcc\n",
        "from imutils.video import VideoStream\n",
        "from imutils.video import FPS\n",
        "from IPython.display import clear_output\n",
        "from google.colab.patches import cv2_imshow"
      ]
    },
    {
      "cell_type": "code",
      "source": [
        "# Подключение гугл диска\n",
        "from google.colab import drive\n",
        "drive.mount('/content/drive')"
      ],
      "metadata": {
        "colab": {
          "base_uri": "https://localhost:8080/"
        },
        "id": "5q_PDi3ntGG1",
        "outputId": "daf9518d-a71b-4aa8-86ae-d689c12ebc59"
      },
      "id": "5q_PDi3ntGG1",
      "execution_count": 5,
      "outputs": [
        {
          "output_type": "stream",
          "name": "stdout",
          "text": [
            "Drive already mounted at /content/drive; to attempt to forcibly remount, call drive.mount(\"/content/drive\", force_remount=True).\n"
          ]
        }
      ]
    },
    {
      "cell_type": "code",
      "execution_count": 6,
      "id": "d73ee5a9",
      "metadata": {
        "colab": {
          "base_uri": "https://localhost:8080/",
          "height": 252,
          "referenced_widgets": [
            "462f40c1d28e4324bc524ab22550b887",
            "b20b1db28c7f4a8eb6b1577f54a1a6b7",
            "01dd544b867a4e3db4d8fa01eeecff16",
            "b251ce9fb85641feaba86e2a16b2503d",
            "08055d51e02f427989438512ea2d0f4a",
            "e18048850bac4d5baaaf34d5281d2afd",
            "e4fd2663448343159e9285c110de25dc",
            "e1d4601ed1714174b375940890a11c58",
            "48ea35935f8447199c8c6d4ce4cdd81e",
            "3b63f5b00fdb4524b4826071a8077ef4",
            "9f7188feec4d4d26aa21dc6a4a2f2c33"
          ]
        },
        "id": "d73ee5a9",
        "outputId": "bbc2abbe-4bfa-4627-e5d4-7567aed15311"
      },
      "outputs": [
        {
          "output_type": "stream",
          "name": "stderr",
          "text": [
            "YOLOv5 🚀 2022-9-22 Python-3.7.14 torch-1.12.1+cu113 CUDA:0 (Tesla T4, 15110MiB)\n",
            "\n",
            "Fusing layers... \n",
            "Model summary: 276 layers, 35248920 parameters, 0 gradients\n",
            "Adding AutoShape... \n",
            "/usr/local/lib/python3.7/dist-packages/torchvision/models/_utils.py:209: UserWarning: The parameter 'pretrained' is deprecated since 0.13 and will be removed in 0.15, please use 'weights' instead.\n",
            "  f\"The parameter '{pretrained_param}' is deprecated since 0.13 and will be removed in 0.15, \"\n",
            "/usr/local/lib/python3.7/dist-packages/torchvision/models/_utils.py:223: UserWarning: Arguments other than a weight enum or `None` for 'weights' are deprecated since 0.13 and will be removed in 0.15. The current behavior is equivalent to passing `weights=FasterRCNN_ResNet50_FPN_Weights.COCO_V1`. You can also use `weights=FasterRCNN_ResNet50_FPN_Weights.DEFAULT` to get the most up-to-date weights.\n",
            "  warnings.warn(msg)\n",
            "Downloading: \"https://download.pytorch.org/models/fasterrcnn_resnet50_fpn_coco-258fb6c6.pth\" to /root/.cache/torch/hub/checkpoints/fasterrcnn_resnet50_fpn_coco-258fb6c6.pth\n"
          ]
        },
        {
          "output_type": "display_data",
          "data": {
            "text/plain": [
              "  0%|          | 0.00/160M [00:00<?, ?B/s]"
            ],
            "application/vnd.jupyter.widget-view+json": {
              "version_major": 2,
              "version_minor": 0,
              "model_id": "462f40c1d28e4324bc524ab22550b887"
            }
          },
          "metadata": {}
        }
      ],
      "source": [
        "# Пути к сохранённым весам дообученной yolo5 и самой папке с yolo5 (детекция рамки с номером)\n",
        "model_path_yolo = '/content/drive/MyDrive/Colab Notebooks/itmo/YOLO/yolov5/runs/train/exp4/weights/best.pt'\n",
        "yolo_path = '/content/drive/MyDrive/Colab Notebooks/itmo/YOLO/yolov5'\n",
        "\n",
        "# Загрузка yolo и загрузка в неё сохранённых ранее при дообучении весов\n",
        "model_yolo = torch.hub.load(yolo_path, 'custom', path=model_path_yolo, source='local')\n",
        "\n",
        "#img_path = '/content/drive/MyDrive/Colab Notebooks/itmo/test/images/2022-09-08T16_28_44-099216_png.rf.89af382ff3300ec4a06efb6ce90419c7.jpg'\n",
        "\n",
        "# метки классов для detecto\n",
        "labels = ['0','1','2','3','4','5','6','7','8','9', 'А', 'В', 'С', 'Е', 'Н', 'К', 'М', 'О', 'Р', 'Т', 'Х', 'У']\n",
        "\n",
        "# Путь к весам дообученной в detecto модели (детекция и распознавание символов гос. номера)\n",
        "path_to_weights_detecto = '/content/drive/MyDrive/Colab Notebooks/itmo/detecto/model/model_weights_28092022.pth'\n",
        "model_detecto = core.Model.load(path_to_weights_detecto, labels)\n"
      ]
    },
    {
      "cell_type": "code",
      "source": [
        "# Функция нужна для получения из yolo5 координатов баундинг бокса рамки с номером по каждому кадру. Принимает на вход кадр.\n",
        "def get_bboxes(video_frame):\n",
        "\n",
        "  results = model_yolo([video_frame])\n",
        "\n",
        "  plates = []\n",
        "  if results.xyxy[0].shape[0] == 0:\n",
        "    pass\n",
        "  else:\n",
        "    number_of_license_plate = results.xyxy[0].shape[0]\n",
        "    \n",
        "    for i in range(0, number_of_license_plate):\n",
        "      xmin = results.xyxy[0][i][0]\n",
        "      ymin = results.xyxy[0][i][1]\n",
        "      xmax = results.xyxy[0][i][2]\n",
        "      ymax = results.xyxy[0][i][3]\n",
        "      confidence = results.xyxy[0][i][4]\n",
        "      plates.append((xmin, ymin, xmax, ymax, confidence))\n",
        "  return plates \n",
        "\n",
        "\n",
        "# Функция нужна для отрисовки рамки с найденным гос. номером номером и confidence на каждом кадре.\n",
        "# Принимает на вход список баундинг боксов, кадр и порог уверенности\n",
        "def draw_bboxes(boxes_list, frame, conf):\n",
        "  if len(boxes_list) == 0:\n",
        "    plate_number = None\n",
        "    \n",
        "  else:\n",
        "    # Отрисовываем рамки, если уверенность выше пороговой \n",
        "    for box in boxes_list:\n",
        "      if box[4] >= conf:\n",
        "        #print(type(box[0]), type(float(box[0])))\n",
        "        cv2.rectangle(frame, (int(box[0]), int(box[1])), (int(box[0]) + (int(box[2])-int(box[0])), int(box[1]) + (int(box[3])-int(box[1]))), (0, 0, 255), 3)\n",
        "        cv2.putText(frame, str(round(float(box[4]),2)) , (int(box[0]), int(box[1])-10), cv2.FONT_HERSHEY_DUPLEX, 0.5, (0, 255, 0),lineType=cv2.LINE_AA)\n",
        "        cv2.imwrite('/content/drive/MyDrive/Colab Notebooks/itmo/test_plate.jpg', frame)\n",
        "        plate_number = frame[int(box[1]): int(box[1]) + (int(box[3])-int(box[1])), int(box[0]): int(box[0]) + (int(box[2])-int(box[0]))]\n",
        "      else:\n",
        "        plate_number = None\n",
        "    \n",
        "  return frame, plate_number\n",
        "\n",
        "\n",
        "# Функция нужна для детекции и распознавания символов на фрагменте изображения с номером.\n",
        "# Принимает на вход кадр и порог уверенности\n",
        "def predict_symbols(image, tresh):\n",
        "  \n",
        "  #image_predict = utils.read_image(\"/content/drive/MyDrive/Colab Notebooks/itmo/crop.jpg\")\n",
        "  predictions = model_detecto.predict(image)\n",
        "  labels, boxes, scores = predictions\n",
        "  show_labeled_image(image, boxes, labels)\n",
        "\n",
        "  # Будем брать только те баундинг боксы, где уверенность выше пороговой\n",
        "  filtered_indices=np.where(scores>tresh)\n",
        "  #filtered_scores=scores[filtered_indices]\n",
        "  filtered_boxes=boxes[filtered_indices]\n",
        "  num_list = filtered_indices[0].tolist()\n",
        "  filtered_labels = [labels[i] for i in num_list]\n",
        "  #show_labeled_image(image, filtered_boxes, filtered_labels)\n",
        "  symbols_dict = {}\n",
        "  number_symbols = filtered_boxes.shape[0]\n",
        "  for i in range(0,number_symbols):\n",
        "    symbols_dict[float(filtered_boxes[i][0])] = filtered_labels[i]\n",
        "  result = list(dict(sorted(symbols_dict.items())).values())\n",
        "\n",
        "  return  result    "
      ],
      "metadata": {
        "id": "5hFusjlURCfI"
      },
      "id": "5hFusjlURCfI",
      "execution_count": 7,
      "outputs": []
    },
    {
      "cell_type": "code",
      "source": [
        "# Путь к видео на котором будем искать номер и распознавать его\n",
        "path_to_video = \"/content/drive/MyDrive/Colab Notebooks/itmo/VID_20190530_141736.mp4\"\n",
        "\n",
        "# Захват видеопотока\n",
        "video_stream = cv2.VideoCapture(path_to_video)\n",
        "\n",
        "fourcc = cv2.VideoWriter_fourcc(*'MJPG')\n",
        "frame_width = int(video_stream.get(3))\n",
        "frame_height = int(video_stream.get(4))\n",
        "\n",
        "# Будем выводить обработанное видео с отрисованными номером в отдельный файл \n",
        "out = cv2.VideoWriter('/content/drive/MyDrive/Colab Notebooks/itmo/28092022_1.avi', fourcc , 25, (frame_width,frame_height))\n",
        "\n",
        "\n",
        "# Уверенность для yolo и порог для detecto\n",
        "confidence_yolo = 0.2\n",
        "treshold_detecto = 0.6\n",
        "\n",
        "# Инициализация модели\n",
        "model_detecto = core.Model.load(path_to_weights_detecto, labels)\n",
        "\n",
        "# Обрабтываем каждый кадр захваченного видеопотока\n",
        "while True:\n",
        "  (grabbed, frame) = video_stream.read()\n",
        "  if not grabbed:\n",
        "    break\n",
        "  bboxes = get_bboxes(frame)\n",
        "    \n",
        "  frame_to_draw, plate_number = draw_bboxes(bboxes, frame, confidence_yolo)\n",
        "  out.write(frame_to_draw)\n",
        "\n",
        "  # Если номер вообще обнаружен в кадре выведем его и найденные и распознанные символы  \n",
        "  if plate_number is not None:\n",
        "    clear_output(wait=True)\n",
        "    cv2_imshow(plate_number)\n",
        "    plate_number_symbols = predict_symbols(plate_number, treshold_detecto)\n",
        "    print(plate_number_symbols)"
      ],
      "metadata": {
        "id": "wbGfOedCq6L9",
        "colab": {
          "base_uri": "https://localhost:8080/",
          "height": 139
        },
        "outputId": "ee086b1c-b9be-4c67-947f-b28420c0ee17"
      },
      "id": "wbGfOedCq6L9",
      "execution_count": 8,
      "outputs": [
        {
          "output_type": "display_data",
          "data": {
            "text/plain": [
              "<PIL.Image.Image image mode=RGB size=199x47 at 0x7F9E73731710>"
            ],
            "image/png": "[encoded data removed]"
          },
          "metadata": {}
        },
        {
          "output_type": "stream",
          "name": "stderr",
          "text": [
            "/usr/local/lib/python3.7/dist-packages/detecto/visualize.py:281: RuntimeWarning: More than 20 figures have been opened. Figures created through the pyplot interface (`matplotlib.pyplot.figure`) are retained until explicitly closed and may consume too much memory. (To control this warning, see the rcParam `figure.max_open_warning`).\n",
            "  fig, ax = plt.subplots(1)\n"
          ]
        },
        {
          "output_type": "stream",
          "name": "stdout",
          "text": [
            "['О', '0', '5', '7', 'В', 'У', '6', '8']\n"
          ]
        }
      ]
    },
    {
      "cell_type": "code",
      "source": [
        "# Видим, что модель распознает символы, но требуется доработка."
      ],
      "metadata": {
        "id": "aqPcwr9udO35"
      },
      "id": "aqPcwr9udO35",
      "execution_count": null,
      "outputs": []
    },
    {
      "cell_type": "markdown",
      "source": [],
      "metadata": {
        "id": "PERXXKR_cICU"
      },
      "id": "PERXXKR_cICU"
    }
  ],
  "metadata": {
    "kernelspec": {
      "display_name": "Python 3 (ipykernel)",
      "language": "python",
      "name": "python3"
    },
    "language_info": {
      "codemirror_mode": {
        "name": "ipython",
        "version": 3
      },
      "file_extension": ".py",
      "mimetype": "text/x-python",
      "name": "python",
      "nbconvert_exporter": "python",
      "pygments_lexer": "ipython3",
      "version": "3.8.5"
    },
    "colab": {
      "provenance": [],
      "collapsed_sections": []
    },
    "accelerator": "GPU",
    "widgets": {
      "application/vnd.jupyter.widget-state+json": {
        "462f40c1d28e4324bc524ab22550b887": {
          "model_module": "@jupyter-widgets/controls",
          "model_name": "HBoxModel",
          "model_module_version": "1.5.0",
          "state": {
            "_dom_classes": [],
            "_model_module": "@jupyter-widgets/controls",
            "_model_module_version": "1.5.0",
            "_model_name": "HBoxModel",
            "_view_count": null,
            "_view_module": "@jupyter-widgets/controls",
            "_view_module_version": "1.5.0",
            "_view_name": "HBoxView",
            "box_style": "",
            "children": [
              "IPY_MODEL_b20b1db28c7f4a8eb6b1577f54a1a6b7",
              "IPY_MODEL_01dd544b867a4e3db4d8fa01eeecff16",
              "IPY_MODEL_b251ce9fb85641feaba86e2a16b2503d"
            ],
            "layout": "IPY_MODEL_08055d51e02f427989438512ea2d0f4a"
          }
        },
        "b20b1db28c7f4a8eb6b1577f54a1a6b7": {
          "model_module": "@jupyter-widgets/controls",
          "model_name": "HTMLModel",
          "model_module_version": "1.5.0",
          "state": {
            "_dom_classes": [],
            "_model_module": "@jupyter-widgets/controls",
            "_model_module_version": "1.5.0",
            "_model_name": "HTMLModel",
            "_view_count": null,
            "_view_module": "@jupyter-widgets/controls",
            "_view_module_version": "1.5.0",
            "_view_name": "HTMLView",
            "description": "",
            "description_tooltip": null,
            "layout": "IPY_MODEL_e18048850bac4d5baaaf34d5281d2afd",
            "placeholder": "​",
            "style": "IPY_MODEL_e4fd2663448343159e9285c110de25dc",
            "value": "100%"
          }
        },
        "01dd544b867a4e3db4d8fa01eeecff16": {
          "model_module": "@jupyter-widgets/controls",
          "model_name": "FloatProgressModel",
          "model_module_version": "1.5.0",
          "state": {
            "_dom_classes": [],
            "_model_module": "@jupyter-widgets/controls",
            "_model_module_version": "1.5.0",
            "_model_name": "FloatProgressModel",
            "_view_count": null,
            "_view_module": "@jupyter-widgets/controls",
            "_view_module_version": "1.5.0",
            "_view_name": "ProgressView",
            "bar_style": "success",
            "description": "",
            "description_tooltip": null,
            "layout": "IPY_MODEL_e1d4601ed1714174b375940890a11c58",
            "max": 167502836,
            "min": 0,
            "orientation": "horizontal",
            "style": "IPY_MODEL_48ea35935f8447199c8c6d4ce4cdd81e",
            "value": 167502836
          }
        },
        "b251ce9fb85641feaba86e2a16b2503d": {
          "model_module": "@jupyter-widgets/controls",
          "model_name": "HTMLModel",
          "model_module_version": "1.5.0",
          "state": {
            "_dom_classes": [],
            "_model_module": "@jupyter-widgets/controls",
            "_model_module_version": "1.5.0",
            "_model_name": "HTMLModel",
            "_view_count": null,
            "_view_module": "@jupyter-widgets/controls",
            "_view_module_version": "1.5.0",
            "_view_name": "HTMLView",
            "description": "",
            "description_tooltip": null,
            "layout": "IPY_MODEL_3b63f5b00fdb4524b4826071a8077ef4",
            "placeholder": "​",
            "style": "IPY_MODEL_9f7188feec4d4d26aa21dc6a4a2f2c33",
            "value": " 160M/160M [00:00&lt;00:00, 250MB/s]"
          }
        },
        "08055d51e02f427989438512ea2d0f4a": {
          "model_module": "@jupyter-widgets/base",
          "model_name": "LayoutModel",
          "model_module_version": "1.2.0",
          "state": {
            "_model_module": "@jupyter-widgets/base",
            "_model_module_version": "1.2.0",
            "_model_name": "LayoutModel",
            "_view_count": null,
            "_view_module": "@jupyter-widgets/base",
            "_view_module_version": "1.2.0",
            "_view_name": "LayoutView",
            "align_content": null,
            "align_items": null,
            "align_self": null,
            "border": null,
            "bottom": null,
            "display": null,
            "flex": null,
            "flex_flow": null,
            "grid_area": null,
            "grid_auto_columns": null,
            "grid_auto_flow": null,
            "grid_auto_rows": null,
            "grid_column": null,
            "grid_gap": null,
            "grid_row": null,
            "grid_template_areas": null,
            "grid_template_columns": null,
            "grid_template_rows": null,
            "height": null,
            "justify_content": null,
            "justify_items": null,
            "left": null,
            "margin": null,
            "max_height": null,
            "max_width": null,
            "min_height": null,
            "min_width": null,
            "object_fit": null,
            "object_position": null,
            "order": null,
            "overflow": null,
            "overflow_x": null,
            "overflow_y": null,
            "padding": null,
            "right": null,
            "top": null,
            "visibility": null,
            "width": null
          }
        },
        "e18048850bac4d5baaaf34d5281d2afd": {
          "model_module": "@jupyter-widgets/base",
          "model_name": "LayoutModel",
          "model_module_version": "1.2.0",
          "state": {
            "_model_module": "@jupyter-widgets/base",
            "_model_module_version": "1.2.0",
            "_model_name": "LayoutModel",
            "_view_count": null,
            "_view_module": "@jupyter-widgets/base",
            "_view_module_version": "1.2.0",
            "_view_name": "LayoutView",
            "align_content": null,
            "align_items": null,
            "align_self": null,
            "border": null,
            "bottom": null,
            "display": null,
            "flex": null,
            "flex_flow": null,
            "grid_area": null,
            "grid_auto_columns": null,
            "grid_auto_flow": null,
            "grid_auto_rows": null,
            "grid_column": null,
            "grid_gap": null,
            "grid_row": null,
            "grid_template_areas": null,
            "grid_template_columns": null,
            "grid_template_rows": null,
            "height": null,
            "justify_content": null,
            "justify_items": null,
            "left": null,
            "margin": null,
            "max_height": null,
            "max_width": null,
            "min_height": null,
            "min_width": null,
            "object_fit": null,
            "object_position": null,
            "order": null,
            "overflow": null,
            "overflow_x": null,
            "overflow_y": null,
            "padding": null,
            "right": null,
            "top": null,
            "visibility": null,
            "width": null
          }
        },
        "e4fd2663448343159e9285c110de25dc": {
          "model_module": "@jupyter-widgets/controls",
          "model_name": "DescriptionStyleModel",
          "model_module_version": "1.5.0",
          "state": {
            "_model_module": "@jupyter-widgets/controls",
            "_model_module_version": "1.5.0",
            "_model_name": "DescriptionStyleModel",
            "_view_count": null,
            "_view_module": "@jupyter-widgets/base",
            "_view_module_version": "1.2.0",
            "_view_name": "StyleView",
            "description_width": ""
          }
        },
        "e1d4601ed1714174b375940890a11c58": {
          "model_module": "@jupyter-widgets/base",
          "model_name": "LayoutModel",
          "model_module_version": "1.2.0",
          "state": {
            "_model_module": "@jupyter-widgets/base",
            "_model_module_version": "1.2.0",
            "_model_name": "LayoutModel",
            "_view_count": null,
            "_view_module": "@jupyter-widgets/base",
            "_view_module_version": "1.2.0",
            "_view_name": "LayoutView",
            "align_content": null,
            "align_items": null,
            "align_self": null,
            "border": null,
            "bottom": null,
            "display": null,
            "flex": null,
            "flex_flow": null,
            "grid_area": null,
            "grid_auto_columns": null,
            "grid_auto_flow": null,
            "grid_auto_rows": null,
            "grid_column": null,
            "grid_gap": null,
            "grid_row": null,
            "grid_template_areas": null,
            "grid_template_columns": null,
            "grid_template_rows": null,
            "height": null,
            "justify_content": null,
            "justify_items": null,
            "left": null,
            "margin": null,
            "max_height": null,
            "max_width": null,
            "min_height": null,
            "min_width": null,
            "object_fit": null,
            "object_position": null,
            "order": null,
            "overflow": null,
            "overflow_x": null,
            "overflow_y": null,
            "padding": null,
            "right": null,
            "top": null,
            "visibility": null,
            "width": null
          }
        },
        "48ea35935f8447199c8c6d4ce4cdd81e": {
          "model_module": "@jupyter-widgets/controls",
          "model_name": "ProgressStyleModel",
          "model_module_version": "1.5.0",
          "state": {
            "_model_module": "@jupyter-widgets/controls",
            "_model_module_version": "1.5.0",
            "_model_name": "ProgressStyleModel",
            "_view_count": null,
            "_view_module": "@jupyter-widgets/base",
            "_view_module_version": "1.2.0",
            "_view_name": "StyleView",
            "bar_color": null,
            "description_width": ""
          }
        },
        "3b63f5b00fdb4524b4826071a8077ef4": {
          "model_module": "@jupyter-widgets/base",
          "model_name": "LayoutModel",
          "model_module_version": "1.2.0",
          "state": {
            "_model_module": "@jupyter-widgets/base",
            "_model_module_version": "1.2.0",
            "_model_name": "LayoutModel",
            "_view_count": null,
            "_view_module": "@jupyter-widgets/base",
            "_view_module_version": "1.2.0",
            "_view_name": "LayoutView",
            "align_content": null,
            "align_items": null,
            "align_self": null,
            "border": null,
            "bottom": null,
            "display": null,
            "flex": null,
            "flex_flow": null,
            "grid_area": null,
            "grid_auto_columns": null,
            "grid_auto_flow": null,
            "grid_auto_rows": null,
            "grid_column": null,
            "grid_gap": null,
            "grid_row": null,
            "grid_template_areas": null,
            "grid_template_columns": null,
            "grid_template_rows": null,
            "height": null,
            "justify_content": null,
            "justify_items": null,
            "left": null,
            "margin": null,
            "max_height": null,
            "max_width": null,
            "min_height": null,
            "min_width": null,
            "object_fit": null,
            "object_position": null,
            "order": null,
            "overflow": null,
            "overflow_x": null,
            "overflow_y": null,
            "padding": null,
            "right": null,
            "top": null,
            "visibility": null,
            "width": null
          }
        },
        "9f7188feec4d4d26aa21dc6a4a2f2c33": {
          "model_module": "@jupyter-widgets/controls",
          "model_name": "DescriptionStyleModel",
          "model_module_version": "1.5.0",
          "state": {
            "_model_module": "@jupyter-widgets/controls",
            "_model_module_version": "1.5.0",
            "_model_name": "DescriptionStyleModel",
            "_view_count": null,
            "_view_module": "@jupyter-widgets/base",
            "_view_module_version": "1.2.0",
            "_view_name": "StyleView",
            "description_width": ""
          }
        }
      }
    }
  },
  "nbformat": 4,
  "nbformat_minor": 5
}